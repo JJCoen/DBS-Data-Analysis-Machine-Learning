{
 "cells": [
  {
   "cell_type": "markdown",
   "metadata": {},
   "source": [
    "\n",
    "<center><font size=\"+3\">\n",
    "Data Analysis and Machine Learning   \n",
    "    \n",
    "<center><font size=\"+2\">    \n",
    "Continuous Assessment 2     \n",
    "<center>    \n",
    "Jim Coen   \n",
    "<center>    \n",
    "Student Number: 10556748  \n",
    "</font></center>\n"
   ]
  },
  {
   "cell_type": "markdown",
   "metadata": {},
   "source": [
    "# Linear Regression\n",
    "\n",
    "> <span style=\"color:darkblue\">Primary Research Question:</span>  \n",
    "> What subset of features account for most of the variance in the outcome variable.\n",
    "\n",
    "\n",
    "## Justification for the 'candy-power-ranking' dataset  \n",
    "(Hickey, 2017)  \n",
    "\n",
    "* The dataset has a clearly defined outcome variable, _winpercent_.  Also, authors obtained the respones of almost 270,000 customers of candy bars in order to calculate overall _winpercent_ for each bar.  In addition, this target variable is numeric so it is feasible to perform regression on it.\n",
    "\n",
    "* While there are only 85 observations, typically this is the case for commercial products where there a limited number of offerings in any given market segment.\n",
    "\n",
    "* Many commercial products can be described in terms of a combination of continuous and binary variables.  In this way, observations record both the physical properties (dimension, capacity) and whether or not the product has particular capabilities.  \n",
    "\n",
    "* This type of dataset has even broader application.  For instance, a hospital measures vital signs such as the levels of blood components along with a series of binary responses on the medical history of the patient.  \n",
    "\n",
    "## Justification for the Analysis Method\n",
    "\n",
    "* Linear regression is especially useful for continuous variables but it can be adapted to accomodate binary variables also. \n",
    "\n",
    "* Linear models can assess the effect of changing the ingredients on the target variable, which is the approval rating.\n",
    "\n",
    "* Multiple Linear Regression gives the impact of each of the explanatory variables on the response while holding the other variables constant.\n",
    "\n",
    "* Clustering offers the possibility of identifying types of products.  This would enable a new entrant into the market to differentiate their new product from existing ones."
   ]
  },
  {
   "cell_type": "markdown",
   "metadata": {},
   "source": [
    "## Exploratory Data Analysis\n",
    "\n",
    "Initialisation"
   ]
  },
  {
   "cell_type": "code",
   "execution_count": 1,
   "metadata": {},
   "outputs": [
    {
     "name": "stdout",
     "output_type": "stream",
     "text": [
      "Pandas version: 1.0.5\n",
      "Numpy version: 1.18.5\n"
     ]
    }
   ],
   "source": [
    "import pandas as pd\n",
    "import numpy as np\n",
    "print(\"Pandas version:\", pd.__version__)\n",
    "print(\"Numpy version:\", np.__version__)\n",
    "# various options in pandas\n",
    "pd.set_option('display.max_columns', None)\n",
    "pd.set_option('display.max_rows', 25)\n",
    "pd.set_option('display.precision', 3)\n",
    "\n",
    "import seaborn as sns\n",
    "import matplotlib.pyplot as plt\n",
    "from IPython.display import display\n",
    "\n",
    "import scipy  # stats functions\n",
    "import statsmodels"
   ]
  },
  {
   "cell_type": "markdown",
   "metadata": {},
   "source": [
    "_Candy Power Ranking_ dataset from __fivethirtyeight.com__"
   ]
  },
  {
   "cell_type": "code",
   "execution_count": 53,
   "metadata": {},
   "outputs": [],
   "source": [
    "# abrieviate long column names for ease of reference\n",
    "cols =  ['brand', 'choc', 'fruit', 'caramel', 'nuty', 'nougat', 'crisp', 'hard', 'bar', 'plur', 'sugarpc', 'pricepc', 'winpc']\n",
    "\n",
    "df= pd.read_csv(\n",
    "    'https://raw.githubusercontent.com/fivethirtyeight/data/master/candy-power-ranking/candy-data.csv',\n",
    "    header = None,\n",
    "    names = cols\n",
    ")"
   ]
  },
  {
   "cell_type": "code",
   "execution_count": 54,
   "metadata": {},
   "outputs": [
    {
     "data": {
      "text/html": [
       "<div>\n",
       "<style scoped>\n",
       "    .dataframe tbody tr th:only-of-type {\n",
       "        vertical-align: middle;\n",
       "    }\n",
       "\n",
       "    .dataframe tbody tr th {\n",
       "        vertical-align: top;\n",
       "    }\n",
       "\n",
       "    .dataframe thead th {\n",
       "        text-align: right;\n",
       "    }\n",
       "</style>\n",
       "<table border=\"1\" class=\"dataframe\">\n",
       "  <thead>\n",
       "    <tr style=\"text-align: right;\">\n",
       "      <th></th>\n",
       "      <th>brand</th>\n",
       "      <th>choc</th>\n",
       "      <th>fruit</th>\n",
       "      <th>caramel</th>\n",
       "      <th>nuty</th>\n",
       "      <th>nougat</th>\n",
       "      <th>crisp</th>\n",
       "      <th>hard</th>\n",
       "      <th>bar</th>\n",
       "      <th>plur</th>\n",
       "      <th>sugarpc</th>\n",
       "      <th>pricepc</th>\n",
       "      <th>winpc</th>\n",
       "    </tr>\n",
       "  </thead>\n",
       "  <tbody>\n",
       "    <tr>\n",
       "      <th>0</th>\n",
       "      <td>competitorname</td>\n",
       "      <td>chocolate</td>\n",
       "      <td>fruity</td>\n",
       "      <td>caramel</td>\n",
       "      <td>peanutyalmondy</td>\n",
       "      <td>nougat</td>\n",
       "      <td>crispedricewafer</td>\n",
       "      <td>hard</td>\n",
       "      <td>bar</td>\n",
       "      <td>pluribus</td>\n",
       "      <td>sugarpercent</td>\n",
       "      <td>pricepercent</td>\n",
       "      <td>winpercent</td>\n",
       "    </tr>\n",
       "    <tr>\n",
       "      <th>1</th>\n",
       "      <td>100 Grand</td>\n",
       "      <td>1</td>\n",
       "      <td>0</td>\n",
       "      <td>1</td>\n",
       "      <td>0</td>\n",
       "      <td>0</td>\n",
       "      <td>1</td>\n",
       "      <td>0</td>\n",
       "      <td>1</td>\n",
       "      <td>0</td>\n",
       "      <td>.73199999</td>\n",
       "      <td>.86000001</td>\n",
       "      <td>66.971725</td>\n",
       "    </tr>\n",
       "    <tr>\n",
       "      <th>2</th>\n",
       "      <td>3 Musketeers</td>\n",
       "      <td>1</td>\n",
       "      <td>0</td>\n",
       "      <td>0</td>\n",
       "      <td>0</td>\n",
       "      <td>1</td>\n",
       "      <td>0</td>\n",
       "      <td>0</td>\n",
       "      <td>1</td>\n",
       "      <td>0</td>\n",
       "      <td>.60399997</td>\n",
       "      <td>.51099998</td>\n",
       "      <td>67.602936</td>\n",
       "    </tr>\n",
       "    <tr>\n",
       "      <th>3</th>\n",
       "      <td>One dime</td>\n",
       "      <td>0</td>\n",
       "      <td>0</td>\n",
       "      <td>0</td>\n",
       "      <td>0</td>\n",
       "      <td>0</td>\n",
       "      <td>0</td>\n",
       "      <td>0</td>\n",
       "      <td>0</td>\n",
       "      <td>0</td>\n",
       "      <td>.011</td>\n",
       "      <td>.116</td>\n",
       "      <td>32.261086</td>\n",
       "    </tr>\n",
       "    <tr>\n",
       "      <th>4</th>\n",
       "      <td>One quarter</td>\n",
       "      <td>0</td>\n",
       "      <td>0</td>\n",
       "      <td>0</td>\n",
       "      <td>0</td>\n",
       "      <td>0</td>\n",
       "      <td>0</td>\n",
       "      <td>0</td>\n",
       "      <td>0</td>\n",
       "      <td>0</td>\n",
       "      <td>.011</td>\n",
       "      <td>.51099998</td>\n",
       "      <td>46.116505</td>\n",
       "    </tr>\n",
       "  </tbody>\n",
       "</table>\n",
       "</div>"
      ],
      "text/plain": [
       "            brand       choc   fruit  caramel            nuty  nougat  \\\n",
       "0  competitorname  chocolate  fruity  caramel  peanutyalmondy  nougat   \n",
       "1       100 Grand          1       0        1               0       0   \n",
       "2    3 Musketeers          1       0        0               0       1   \n",
       "3        One dime          0       0        0               0       0   \n",
       "4     One quarter          0       0        0               0       0   \n",
       "\n",
       "              crisp  hard  bar      plur       sugarpc       pricepc  \\\n",
       "0  crispedricewafer  hard  bar  pluribus  sugarpercent  pricepercent   \n",
       "1                 1     0    1         0     .73199999     .86000001   \n",
       "2                 0     0    1         0     .60399997     .51099998   \n",
       "3                 0     0    0         0          .011          .116   \n",
       "4                 0     0    0         0          .011     .51099998   \n",
       "\n",
       "        winpc  \n",
       "0  winpercent  \n",
       "1   66.971725  \n",
       "2   67.602936  \n",
       "3   32.261086  \n",
       "4   46.116505  "
      ]
     },
     "execution_count": 54,
     "metadata": {},
     "output_type": "execute_result"
    }
   ],
   "source": [
    "df.head(5)"
   ]
  },
  {
   "cell_type": "markdown",
   "metadata": {},
   "source": [
    "__Data Cleaning__\n"
   ]
  },
  {
   "cell_type": "code",
   "execution_count": 55,
   "metadata": {},
   "outputs": [
    {
     "name": "stdout",
     "output_type": "stream",
     "text": [
      "<class 'pandas.core.frame.DataFrame'>\n",
      "Int64Index: 85 entries, 1 to 85\n",
      "Data columns (total 13 columns):\n",
      " #   Column   Non-Null Count  Dtype \n",
      "---  ------   --------------  ----- \n",
      " 0   brand    85 non-null     object\n",
      " 1   choc     85 non-null     object\n",
      " 2   fruit    85 non-null     object\n",
      " 3   caramel  85 non-null     object\n",
      " 4   nuty     85 non-null     object\n",
      " 5   nougat   85 non-null     object\n",
      " 6   crisp    85 non-null     object\n",
      " 7   hard     85 non-null     object\n",
      " 8   bar      85 non-null     object\n",
      " 9   plur     85 non-null     object\n",
      " 10  sugarpc  85 non-null     object\n",
      " 11  pricepc  85 non-null     object\n",
      " 12  winpc    85 non-null     object\n",
      "dtypes: object(13)\n",
      "memory usage: 9.3+ KB\n"
     ]
    }
   ],
   "source": [
    "df = df.drop(df.index[[0]])\n",
    "df.info()"
   ]
  },
  {
   "cell_type": "code",
   "execution_count": 56,
   "metadata": {},
   "outputs": [
    {
     "name": "stdout",
     "output_type": "stream",
     "text": [
      "brand       object\n",
      "choc         int64\n",
      "fruit        int64\n",
      "caramel      int64\n",
      "nuty         int64\n",
      "nougat       int64\n",
      "crisp        int64\n",
      "hard         int64\n",
      "bar          int64\n",
      "plur         int64\n",
      "sugarpc    float64\n",
      "pricepc    float64\n",
      "winpc      float64\n",
      "dtype: object\n"
     ]
    }
   ],
   "source": [
    "df['sugarpc'] = df['sugarpc'].astype(float).round(9)\n",
    "df['pricepc'] = df['pricepc'].astype(float).round(9)\n",
    "df['winpc'] = df['winpc'].astype(float).round(9)\n",
    "cols_bin = ['choc', 'fruit', 'caramel', 'nuty', 'nougat', 'crisp', 'hard', 'bar', 'plur']\n",
    "df[cols_bin] = df[cols_bin].astype('int')\n",
    "df['brand'] = df['brand'].astype('str')\n",
    "\n",
    "print(df.dtypes) "
   ]
  },
  {
   "cell_type": "markdown",
   "metadata": {},
   "source": [
    "__Inspect the Data__\n",
    "\n",
    "The dataset has 85 observations referring to each brand in the survey and there are no null values.  However, this dataset is out of step with the sampling recommendation for regression, which would require 240 (20 x 12) measurements.\n",
    "\n",
    "* _winpc_  \n",
    "    Candy bar aficionados were asked to compare two bars.  There were 269,000 of these matchups that were generated randomly.  A person gave their preference from among the two bars selected.  The _winpc_ variable refers to the percentage of times a particular bar 'won' in a matchup with another bar.\n",
    "    \n",
    "* _sugarpc_  \n",
    "    The percentile of sugar content that a candy bar falls under.\n",
    "    \n",
    "* _pricepc_  \n",
    "    The unit price percentile compared to the rest of the data.\n",
    "   \n",
    "* Binary variables  \n",
    "    Whether or not a candy bar contains a particular ingredient"
   ]
  },
  {
   "cell_type": "markdown",
   "metadata": {},
   "source": [
    "__Check for Collinearity__"
   ]
  },
  {
   "cell_type": "code",
   "execution_count": 57,
   "metadata": {},
   "outputs": [
    {
     "data": {
      "image/png": "[encoded data removed]",
      "text/plain": [
       "<Figure size 432x288 with 1 Axes>"
      ]
     },
     "metadata": {
      "needs_background": "light"
     },
     "output_type": "display_data"
    }
   ],
   "source": [
    "# df['sugarpc'].corr(df['pricepc']).round(5)\n",
    "\n",
    "# select the three 'float' columns\n",
    "df_float = df.iloc[:,10:13]\n",
    "\n",
    "correlation_mat = df_float.corr()\n",
    "\n",
    "sns.heatmap(correlation_mat, cmap=\"YlGnBu\", annot=True, cbar=False)\n",
    "plt.title(\"Figure 1: Correlation matrix of quantitative variables and response variable\\n\")\n",
    "plt.show()"
   ]
  },
  {
   "cell_type": "markdown",
   "metadata": {},
   "source": [
    "=> There low correlation between the two explanatory variables.   \n",
    "However, there is also low correlation with the response variable.  This fails to meet linearity assumption for Linear Regression.\n",
    "\n",
    "Confirmation of lack of association between _pricepc_, _sugarpc_ and _winpc_: "
   ]
  },
  {
   "cell_type": "code",
   "execution_count": 7,
   "metadata": {},
   "outputs": [
    {
     "data": {
      "image/png": "[encoded data removed]",
      "text/plain": [
       "<Figure size 720x288 with 2 Axes>"
      ]
     },
     "metadata": {
      "needs_background": "light"
     },
     "output_type": "display_data"
    }
   ],
   "source": [
    "fig1, ax1 = plt.subplots(nrows=1, ncols=2)\n",
    "fig1.set_size_inches(10, 4)\n",
    "plt.subplots_adjust(wspace=0.2)\n",
    "    \n",
    "df.plot.scatter( x='sugarpc', y='winpc', ax=ax1[0], title=\"Sugar content\")\n",
    "ax1[0].set_xlabel('sugarpc')\n",
    "ax1[0].set_ylabel('winpc')\n",
    "\n",
    "df.plot.scatter(x='pricepc', y='winpc', ax=ax1[1], title=\"Price\")\n",
    "ax1[1].set_xlabel('pricepc')\n",
    "ax1[1].set_ylabel('winpc')\n",
    "    \n",
    "fig1.suptitle('Figure 1: Scatterplots of continuous variables\\n', fontsize=14)\n",
    "#plt.title('Figure 1: Scatterplots of continuous variables\\n', fontsize=16)\n",
    "\n",
    "plt.show()"
   ]
  },
  {
   "cell_type": "markdown",
   "metadata": {},
   "source": [
    "=> only the binary variables are available for regression."
   ]
  },
  {
   "cell_type": "code",
   "execution_count": 8,
   "metadata": {},
   "outputs": [
    {
     "data": {
      "text/plain": [
       "['0:brand',\n",
       " '1:choc',\n",
       " '2:fruit',\n",
       " '3:caramel',\n",
       " '4:nuty',\n",
       " '5:nougat',\n",
       " '6:crisp',\n",
       " '7:hard',\n",
       " '8:bar',\n",
       " '9:plur',\n",
       " '10:winpc']"
      ]
     },
     "execution_count": 8,
     "metadata": {},
     "output_type": "execute_result"
    }
   ],
   "source": [
    "df = df.drop(columns=['sugarpc', 'pricepc'])\n",
    "\n",
    "# Column indices\n",
    "col_mapping = [f\"{c[0]}:{c[1]}\" for c in enumerate(df.columns)]\n",
    "col_mapping"
   ]
  },
  {
   "cell_type": "markdown",
   "metadata": {},
   "source": [
    "__Inspect Binary Variables__  \n",
    "From a random selection of two out of the 10 binary variables, carry out a test for independence on those two categorical variables."
   ]
  },
  {
   "cell_type": "code",
   "execution_count": 9,
   "metadata": {},
   "outputs": [
    {
     "data": {
      "text/plain": [
       "(0.0, 1.0, 0)"
      ]
     },
     "execution_count": 9,
     "metadata": {},
     "output_type": "execute_result"
    }
   ],
   "source": [
    "import random\n",
    "random.seed(21)\n",
    "binary_vars = df.iloc[:, 0:9].columns.values.tolist()\n",
    "s  = random.sample(binary_vars, 2)\n",
    "ct = pd.crosstab( df[s[0]], df[s[1]])\n",
    "obs = np.array([ct.iloc[0][0:1].values,\n",
    "                  ct.iloc[1][0:1].values])\n",
    "scipy.stats.chi2_contingency(obs)[0:3]"
   ]
  },
  {
   "cell_type": "markdown",
   "metadata": {},
   "source": [
    "=> needs further interpretation   \n",
    "see: https://towardsdatascience.com/chi-square-test-for-independence-in-python-with-examples-from-the-ibm-hr-analytics-dataset-97b9ec9bb80a  \n",
    "by Dehao Zhang"
   ]
  },
  {
   "cell_type": "markdown",
   "metadata": {
    "jupyter": {
     "outputs_hidden": true
    }
   },
   "source": [
    "## Simple Linear Regression\n",
    "\n",
    "__Assumptions for Linear Regression__  \n",
    "(Simple Linear Regression, 2016)\n",
    "\n",
    "1. **Linearity:** The association between the expanatory variables and the response needs to be linear.  \n",
    "2. **Homoscedasity:**  The variance in the residuals needs to be constant across all values of the observed response/outcome variable.  \n",
    "3. **Normality:**  Residuals need to have a normal distribution.  \n",
    "4. **Independence:**  The explanatory variables need to be independent of each other (no collinearity).  \n",
    "\n",
    "**Sampling:** In addition, it is recommended that there are 20 observations for each explanatory variable in the dataset (Assumptions of Linear Regression, 2021).\n",
    "\n",
    "\n",
    "### Linear Model for Binary Variables - Proof of Concept\n",
    "\n",
    "__Linear Models in Practice__   \n",
    "The following analysis follows the procedure given in the course __Linear Models and Matrix Algebra__ (Irizarry, 2018) applied to the _Candy Bar Ranking_ dataset.  In addition, the implementation is different since the code for the source was in `R`.\n"
   ]
  },
  {
   "cell_type": "code",
   "execution_count": 10,
   "metadata": {},
   "outputs": [
    {
     "name": "stdout",
     "output_type": "stream",
     "text": [
      "mean without choc: 42.142\n",
      "mean with choc: 60.922\n",
      "difference in means: 18.779\n"
     ]
    }
   ],
   "source": [
    "c0 = df.loc[df.choc == 0, 'winpc'].mean()\n",
    "c1 = df.loc[df.choc == 1, 'winpc'].mean()\n",
    "\n",
    "print(\"mean without choc: {:.3f}\".format(c0))\n",
    "print(\"mean with choc: {:.3f}\".format(c1))\n",
    "print(\"difference in means: {:.3f}\".format(c1 - c0))"
   ]
  },
  {
   "cell_type": "code",
   "execution_count": 11,
   "metadata": {},
   "outputs": [
    {
     "data": {
      "image/png": "[encoded data removed]",
      "text/plain": [
       "<Figure size 432x288 with 1 Axes>"
      ]
     },
     "metadata": {
      "needs_background": "light"
     },
     "output_type": "display_data"
    }
   ],
   "source": [
    "choc_df = df[['choc','winpc']]\n",
    "\n",
    "fig2 = sns.stripplot(x=\"choc\", y=\"winpc\", data=choc_df, jitter=0.05)\n",
    "\n",
    "fig2.axhline(42.142)\n",
    "fig2.axhline(60.922, color='darkorange')\n",
    "\n",
    "# # P.arrow( x, y, dx, dy, **kwargs )\n",
    "fig2.arrow( 0.5, 42.142, 0.0, +16.5, \n",
    "            fc=\"k\", ec=\"k\", head_width=0.07, head_length=2 )\n",
    "\n",
    "plt.title('Figure 2: Difference in means of two groups is 18.779\\n', fontsize=16)\n",
    "\n",
    "plt.show()"
   ]
  },
  {
   "cell_type": "markdown",
   "metadata": {},
   "source": [
    "Note that '0' is the reference level."
   ]
  },
  {
   "cell_type": "markdown",
   "metadata": {},
   "source": [
    "__Regression with `linregress`__  \n",
    "\n",
    "b: This is the slope of the regression line\n",
    "a: This is the intercept of the regression line\n",
    "r: This is the correlation coefficient\n",
    "p: This is the two-sided p-value for the hypotheses test-for the null hypothesis that assumes the slope is zero i.e. no association between variables\n",
    "stderr: This is the standard error of the estimate"
   ]
  },
  {
   "cell_type": "code",
   "execution_count": 12,
   "metadata": {},
   "outputs": [
    {
     "name": "stdout",
     "output_type": "stream",
     "text": [
      "Intercept: 42.142\n",
      "Slope: 18.779\n",
      "Correlation coeff: 0.637\n",
      "R-squared: 0.405\n",
      "std-err: 2.498\n"
     ]
    }
   ],
   "source": [
    "from scipy.stats import linregress, ttest_ind \n",
    "choc_m = df[['choc','winpc']]\n",
    "b, a, r, p, stderr = linregress(choc_m) \n",
    "\n",
    "print(\"Intercept: {:.3f}\".format(a))\n",
    "print(\"Slope: {:.3f}\".format(b))\n",
    "print(\"Correlation coeff: {:.3f}\".format(r))\n",
    "print(\"R-squared: {:.3f}\".format(r**2))\n",
    "print(\"std-err: {:.3f}\".format(stderr))\n"
   ]
  },
  {
   "cell_type": "markdown",
   "metadata": {},
   "source": [
    "__Regression with `ols` from `statsmodels`__"
   ]
  },
  {
   "cell_type": "code",
   "execution_count": 13,
   "metadata": {},
   "outputs": [
    {
     "name": "stdout",
     "output_type": "stream",
     "text": [
      "                            OLS Regression Results                            \n",
      "==============================================================================\n",
      "Dep. Variable:                  winpc   R-squared:                       0.405\n",
      "Model:                            OLS   Adj. R-squared:                  0.398\n",
      "Method:                 Least Squares   F-statistic:                     56.53\n",
      "Date:                Fri, 15 Jan 2021   Prob (F-statistic):           5.86e-11\n",
      "Time:                        09:12:45   Log-Likelihood:                -326.58\n",
      "No. Observations:                  85   AIC:                             657.2\n",
      "Df Residuals:                      83   BIC:                             662.0\n",
      "Df Model:                           1                                         \n",
      "Covariance Type:            nonrobust                                         \n",
      "==============================================================================\n",
      "                 coef    std err          t      P>|t|      [0.025      0.975]\n",
      "------------------------------------------------------------------------------\n",
      "Intercept     42.1423      1.648     25.574      0.000      38.865      45.420\n",
      "choc          18.7793      2.498      7.519      0.000      13.812      23.747\n",
      "==============================================================================\n",
      "Omnibus:                        0.632   Durbin-Watson:                   1.715\n",
      "Prob(Omnibus):                  0.729   Jarque-Bera (JB):                0.716\n",
      "Skew:                           0.011   Prob(JB):                        0.699\n",
      "Kurtosis:                       2.551   Cond. No.                         2.49\n",
      "==============================================================================\n",
      "\n",
      "Warnings:\n",
      "[1] Standard Errors assume that the covariance matrix of the errors is correctly specified.\n"
     ]
    }
   ],
   "source": [
    "from statsmodels.formula.api import ols\n",
    "\n",
    "model = ols(\"winpc ~ choc\", \n",
    "            df).fit()\n",
    "\n",
    "# Print the summary\n",
    "print(model.summary())"
   ]
  },
  {
   "cell_type": "markdown",
   "metadata": {},
   "source": [
    "The interpretation of Linear Regression with a binary predictor is that the intercept gives the mean of the reference level.  The second coefficient gives the difference in the means of the two groups (with and without chocolate)."
   ]
  },
  {
   "cell_type": "code",
   "execution_count": 14,
   "metadata": {},
   "outputs": [
    {
     "name": "stdout",
     "output_type": "stream",
     "text": [
      "Counts for two choc groups: \n",
      "0    48\n",
      "1    37\n",
      "Name: choc, dtype: int64\n",
      "\n",
      "t statistic: 7.51876\n",
      "p value:  5.859698106039328e-11\n"
     ]
    }
   ],
   "source": [
    "from scipy import stats\n",
    "\n",
    "print('Counts for two choc groups: ')\n",
    "print( df.choc.value_counts())\n",
    "\n",
    "choc_0 = df.loc[df.choc == 0, 'winpc']\n",
    "choc_1 = df.loc[df.choc == 1, 'winpc']\n",
    "\n",
    "t_stat, p_value = stats.ttest_ind(choc_1, choc_0, equal_var=True)\n",
    "print(\"\\nt statistic: {:.5f}\".format(t_stat) )\n",
    "print(\"p value: \", p_value) \n"
   ]
  },
  {
   "cell_type": "markdown",
   "metadata": {},
   "source": [
    "* Is this significant?  \n",
    "    Let $\\alpha = 0.05$ (critical level)  \n",
    "    $df = 37 - 1$"
   ]
  },
  {
   "cell_type": "code",
   "execution_count": 15,
   "metadata": {},
   "outputs": [
    {
     "name": "stdout",
     "output_type": "stream",
     "text": [
      "t_critical: 2.02809\n",
      "\n",
      "t statistic for sample > t_critical\n",
      "=> reject null hypothesis\n",
      "   there is significant difference between the groups\n"
     ]
    }
   ],
   "source": [
    "#Studnt, df = 36, p<0.05, 2-tail\n",
    "\n",
    "print('t_critical: {:.5f}'.format( stats.t.ppf(1-0.025, 36) ) )\n",
    "\n",
    "print('\\nt statistic for sample > t_critical')\n",
    "print('=> reject null hypothesis')\n",
    "print('   there is significant difference between the groups')"
   ]
  },
  {
   "cell_type": "markdown",
   "metadata": {},
   "source": [
    "__Multiple Linear Regression with Binary Covariates__\n"
   ]
  },
  {
   "cell_type": "code",
   "execution_count": 16,
   "metadata": {},
   "outputs": [
    {
     "data": {
      "image/png": "[encoded data removed]",
      "text/plain": [
       "<Figure size 1152x288 with 3 Axes>"
      ]
     },
     "metadata": {
      "needs_background": "light"
     },
     "output_type": "display_data"
    },
    {
     "data": {
      "image/png": "[encoded data removed]",
      "text/plain": [
       "<Figure size 1152x288 with 3 Axes>"
      ]
     },
     "metadata": {
      "needs_background": "light"
     },
     "output_type": "display_data"
    },
    {
     "data": {
      "image/png": "[encoded data removed]",
      "text/plain": [
       "<Figure size 1152x288 with 3 Axes>"
      ]
     },
     "metadata": {
      "needs_background": "light"
     },
     "output_type": "display_data"
    }
   ],
   "source": [
    "                                \n",
    "fig3, ax1 = plt.subplots(nrows=1, ncols=3)\n",
    "fig3.set_size_inches(16, 4)\n",
    "plt.subplots_adjust(wspace=0.3)\n",
    "    \n",
    "sns.stripplot( x='choc', y='winpc', data = df, ax=ax1[0])\n",
    "ax1[0].set_xlabel('choc')\n",
    "ax1[0].set_ylabel('winpc')\n",
    "\n",
    "sns.stripplot(x='fruit', y='winpc', data = df, ax=ax1[1])\n",
    "ax1[1].set_xlabel('fruit')\n",
    "ax1[1].set_ylabel('winpc')\n",
    "\n",
    "sns.stripplot(x='caramel', y='winpc', data = df, ax=ax1[2])\n",
    "ax1[2].set_xlabel('caramel')\n",
    "ax1[2].set_ylabel('winpc')\n",
    "\n",
    "fig4, ax4 = plt.subplots(nrows=1, ncols=3)\n",
    "fig4.set_size_inches(16, 4)\n",
    "plt.subplots_adjust(wspace=0.3)\n",
    "\n",
    "sns.stripplot( x='nuty', y='winpc', data = df, ax=ax4[0])\n",
    "ax4[0].set_xlabel('nuty')\n",
    "ax4[0].set_ylabel('winpc')\n",
    "\n",
    "sns.stripplot(x='nougat', y='winpc', data = df, ax=ax4[1])\n",
    "ax4[1].set_xlabel('nougat')\n",
    "ax4[1].set_ylabel('winpc')\n",
    "\n",
    "sns.stripplot(x='crisp', y='winpc', data = df, ax=ax4[2])\n",
    "ax4[2].set_xlabel('crisp')\n",
    "ax4[2].set_ylabel('winpc')\n",
    "\n",
    "fig5, ax5 = plt.subplots(nrows=1, ncols=3)\n",
    "fig5.set_size_inches(16, 4)\n",
    "plt.subplots_adjust(wspace=0.3)\n",
    "\n",
    "sns.stripplot( x='hard', y='winpc', data = df, ax=ax5[0])\n",
    "ax5[0].set_xlabel('hard')\n",
    "ax5[0].set_ylabel('winpc')\n",
    "\n",
    "sns.stripplot(x='bar', y='winpc', data = df, ax=ax5[1])\n",
    "ax5[1].set_xlabel('bar')\n",
    "ax5[1].set_ylabel('winpc')\n",
    "\n",
    "sns.stripplot(x='plur', y='winpc', data = df, ax=ax5[2])\n",
    "ax5[2].set_xlabel('plur')\n",
    "ax5[2].set_ylabel('winpc')\n",
    "    \n",
    "fig3.suptitle('Figure 3: Analysis of multiple binary variables is complex\\n', fontsize=16)\n",
    "#plt.title('Figure 1: Scatterplots of continuous variables\\n', fontsize=16)\n",
    "\n",
    "plt.show()"
   ]
  },
  {
   "cell_type": "code",
   "execution_count": 17,
   "metadata": {},
   "outputs": [
    {
     "name": "stdout",
     "output_type": "stream",
     "text": [
      "                            OLS Regression Results                            \n",
      "==============================================================================\n",
      "Dep. Variable:                  winpc   R-squared:                       0.515\n",
      "Model:                            OLS   Adj. R-squared:                  0.457\n",
      "Method:                 Least Squares   F-statistic:                     8.842\n",
      "Date:                Fri, 15 Jan 2021   Prob (F-statistic):           6.05e-09\n",
      "Time:                        09:12:47   Log-Likelihood:                -317.92\n",
      "No. Observations:                  85   AIC:                             655.8\n",
      "Df Residuals:                      75   BIC:                             680.3\n",
      "Df Model:                           9                                         \n",
      "Covariance Type:            nonrobust                                         \n",
      "==============================================================================\n",
      "                 coef    std err          t      P>|t|      [0.025      0.975]\n",
      "------------------------------------------------------------------------------\n",
      "Intercept     35.0155      4.078      8.586      0.000      26.891      43.140\n",
      "choc          19.9058      3.897      5.107      0.000      12.142      27.670\n",
      "fruit         10.2677      3.789      2.710      0.008       2.720      17.815\n",
      "caramel        3.3843      3.603      0.939      0.351      -3.794      10.563\n",
      "nuty          10.1410      3.595      2.821      0.006       2.980      17.302\n",
      "nougat         2.4163      5.690      0.425      0.672      -8.918      13.751\n",
      "crisp          8.9915      5.328      1.688      0.096      -1.622      19.605\n",
      "hard          -4.8726      3.439     -1.417      0.161     -11.724       1.979\n",
      "bar           -0.7220      4.871     -0.148      0.883     -10.425       8.981\n",
      "plur          -0.1599      3.012     -0.053      0.958      -6.159       5.839\n",
      "==============================================================================\n",
      "Omnibus:                        1.753   Durbin-Watson:                   1.801\n",
      "Prob(Omnibus):                  0.416   Jarque-Bera (JB):                1.697\n",
      "Skew:                          -0.258   Prob(JB):                        0.428\n",
      "Kurtosis:                       2.538   Cond. No.                         8.59\n",
      "==============================================================================\n",
      "\n",
      "Warnings:\n",
      "[1] Standard Errors assume that the covariance matrix of the errors is correctly specified.\n"
     ]
    }
   ],
   "source": [
    "# For statistics. Requires statsmodels 5.0 or more\n",
    "from statsmodels.formula.api import ols\n",
    "# Analysis of Variance (ANOVA) on linear models\n",
    "from statsmodels.stats.anova import anova_lm\n",
    "\n",
    "# Fit the model\n",
    "model = ols(\"winpc ~ choc + fruit + caramel + nuty + nougat + crisp + hard + bar + plur\", \n",
    "            df).fit()\n",
    "\n",
    "# Print the summary\n",
    "print(model.summary())\n",
    "\n",
    "# print(\"\\nRetrieving manually the coefficient estimates:\")\n",
    "# print(model._results.params)\n",
    "\n",
    "\n",
    "# Peform analysis of variance on fitted linear model\n",
    "# anova_results = anova_lm(model)\n",
    "\n",
    "# print('\\nANOVA results')\n",
    "# print(anova_results)\n",
    "\n",
    "plt.show()"
   ]
  },
  {
   "cell_type": "markdown",
   "metadata": {},
   "source": [
    "   \n",
    "So this full model accounts for 51.5% of the variation in approval rating _winpc_.  \n",
    "This is the same value that FiveThirtyEight reported.  \n",
    "\n",
    "Note that the fitted coefficients are not equal to the difference in means of the groups.  This is because the linear model takes a weighted average based on group size.\n"
   ]
  },
  {
   "cell_type": "markdown",
   "metadata": {},
   "source": [
    " <center>  Table 1:  Variables that have least effect on the R-squared value</center>\n",
    "\n",
    "| Variable | Effect on R-squared |  \n",
    "| --- | --- |   \n",
    "| carmel | drops from 0.515 to 0.509 |  \n",
    "| nougat | drops from 0.509 to 0.506 |  \n",
    "| hard   | drops from 0.506 to 0.493 |  \n",
    "| bar    | drops from 0.493 to 0.492 |  \n",
    "| plur   | stable at 0.492 |  \n",
    "\n",
    "This suggests that the set of ingredients for a candy bar with greatest impact is:  \n",
    "> _choc_ + _fruit_ + _nuty_ + _crisp_\n",
    "\n",
    "They account for 49.2% of the variation in the approval rating.\n",
    "\n",
    "However, the _crisp_ variable has a _p-value_ of 0.052 and the confidence interval contains zero.  So this variable was rejected.\n",
    "\n",
    "So the final model contains three predictor variables.  This parsimonous model has the additional benefit of satisifying the sampling criterion."
   ]
  },
  {
   "cell_type": "code",
   "execution_count": 28,
   "metadata": {},
   "outputs": [
    {
     "name": "stdout",
     "output_type": "stream",
     "text": [
      "                            OLS Regression Results                            \n",
      "==============================================================================\n",
      "Dep. Variable:                  winpc   R-squared:                       0.467\n",
      "Model:                            OLS   Adj. R-squared:                  0.448\n",
      "Method:                 Least Squares   F-statistic:                     23.68\n",
      "Date:                Fri, 15 Jan 2021   Prob (F-statistic):           4.21e-11\n",
      "Time:                        10:00:55   Log-Likelihood:                -321.89\n",
      "No. Observations:                  85   AIC:                             651.8\n",
      "Df Residuals:                      81   BIC:                             661.6\n",
      "Df Model:                           3                                         \n",
      "Covariance Type:            nonrobust                                         \n",
      "==============================================================================\n",
      "                 coef    std err          t      P>|t|      [0.025      0.975]\n",
      "------------------------------------------------------------------------------\n",
      "Intercept     35.7883      3.237     11.057      0.000      29.348      42.228\n",
      "choc          21.9834      3.599      6.108      0.000      14.822      29.145\n",
      "fruit          7.7530      3.625      2.139      0.035       0.541      14.965\n",
      "nuty           9.0659      3.520      2.576      0.012       2.063      16.069\n",
      "==============================================================================\n",
      "Omnibus:                        0.531   Durbin-Watson:                   1.858\n",
      "Prob(Omnibus):                  0.767   Jarque-Bera (JB):                0.670\n",
      "Skew:                          -0.087   Prob(JB):                        0.715\n",
      "Kurtosis:                       2.602   Cond. No.                         5.68\n",
      "==============================================================================\n",
      "\n",
      "Warnings:\n",
      "[1] Standard Errors assume that the covariance matrix of the errors is correctly specified.\n",
      "\n",
      "R-squared: : 0.467\n"
     ]
    }
   ],
   "source": [
    "# Fit the model\n",
    "model = ols(\"winpc ~ choc + fruit + nuty \", \n",
    "            df).fit()\n",
    "print(model.summary())\n",
    "\n",
    "print(\"\\n+ crisp + hardR-squared: : {:.3f}\".format(model.rsquared))\n"
   ]
  },
  {
   "cell_type": "markdown",
   "metadata": {},
   "source": [
    "* Comparison with top ten candy bars"
   ]
  },
  {
   "cell_type": "code",
   "execution_count": 33,
   "metadata": {},
   "outputs": [
    {
     "data": {
      "text/html": [
       "<div>\n",
       "<style scoped>\n",
       "    .dataframe tbody tr th:only-of-type {\n",
       "        vertical-align: middle;\n",
       "    }\n",
       "\n",
       "    .dataframe tbody tr th {\n",
       "        vertical-align: top;\n",
       "    }\n",
       "\n",
       "    .dataframe thead th {\n",
       "        text-align: right;\n",
       "    }\n",
       "</style>\n",
       "<table border=\"1\" class=\"dataframe\">\n",
       "  <thead>\n",
       "    <tr style=\"text-align: right;\">\n",
       "      <th></th>\n",
       "      <th>brand</th>\n",
       "      <th>choc</th>\n",
       "      <th>fruit</th>\n",
       "      <th>caramel</th>\n",
       "      <th>nuty</th>\n",
       "      <th>nougat</th>\n",
       "      <th>crisp</th>\n",
       "      <th>hard</th>\n",
       "      <th>bar</th>\n",
       "      <th>plur</th>\n",
       "      <th>winpc</th>\n",
       "    </tr>\n",
       "  </thead>\n",
       "  <tbody>\n",
       "    <tr>\n",
       "      <th>53</th>\n",
       "      <td>ReeseÕs Peanut Butter cup</td>\n",
       "      <td>1</td>\n",
       "      <td>0</td>\n",
       "      <td>0</td>\n",
       "      <td>1</td>\n",
       "      <td>0</td>\n",
       "      <td>0</td>\n",
       "      <td>0</td>\n",
       "      <td>0</td>\n",
       "      <td>0</td>\n",
       "      <td>84.180</td>\n",
       "    </tr>\n",
       "    <tr>\n",
       "      <th>52</th>\n",
       "      <td>ReeseÕs Miniatures</td>\n",
       "      <td>1</td>\n",
       "      <td>0</td>\n",
       "      <td>0</td>\n",
       "      <td>1</td>\n",
       "      <td>0</td>\n",
       "      <td>0</td>\n",
       "      <td>0</td>\n",
       "      <td>0</td>\n",
       "      <td>0</td>\n",
       "      <td>81.866</td>\n",
       "    </tr>\n",
       "    <tr>\n",
       "      <th>80</th>\n",
       "      <td>Twix</td>\n",
       "      <td>1</td>\n",
       "      <td>0</td>\n",
       "      <td>1</td>\n",
       "      <td>0</td>\n",
       "      <td>0</td>\n",
       "      <td>1</td>\n",
       "      <td>0</td>\n",
       "      <td>1</td>\n",
       "      <td>0</td>\n",
       "      <td>81.643</td>\n",
       "    </tr>\n",
       "    <tr>\n",
       "      <th>29</th>\n",
       "      <td>Kit Kat</td>\n",
       "      <td>1</td>\n",
       "      <td>0</td>\n",
       "      <td>0</td>\n",
       "      <td>0</td>\n",
       "      <td>0</td>\n",
       "      <td>1</td>\n",
       "      <td>0</td>\n",
       "      <td>1</td>\n",
       "      <td>0</td>\n",
       "      <td>76.769</td>\n",
       "    </tr>\n",
       "    <tr>\n",
       "      <th>65</th>\n",
       "      <td>Snickers</td>\n",
       "      <td>1</td>\n",
       "      <td>0</td>\n",
       "      <td>1</td>\n",
       "      <td>1</td>\n",
       "      <td>1</td>\n",
       "      <td>0</td>\n",
       "      <td>0</td>\n",
       "      <td>1</td>\n",
       "      <td>0</td>\n",
       "      <td>76.674</td>\n",
       "    </tr>\n",
       "    <tr>\n",
       "      <th>54</th>\n",
       "      <td>ReeseÕs pieces</td>\n",
       "      <td>1</td>\n",
       "      <td>0</td>\n",
       "      <td>0</td>\n",
       "      <td>1</td>\n",
       "      <td>0</td>\n",
       "      <td>0</td>\n",
       "      <td>0</td>\n",
       "      <td>0</td>\n",
       "      <td>1</td>\n",
       "      <td>73.435</td>\n",
       "    </tr>\n",
       "    <tr>\n",
       "      <th>37</th>\n",
       "      <td>Milky Way</td>\n",
       "      <td>1</td>\n",
       "      <td>0</td>\n",
       "      <td>1</td>\n",
       "      <td>0</td>\n",
       "      <td>1</td>\n",
       "      <td>0</td>\n",
       "      <td>0</td>\n",
       "      <td>1</td>\n",
       "      <td>0</td>\n",
       "      <td>73.100</td>\n",
       "    </tr>\n",
       "    <tr>\n",
       "      <th>55</th>\n",
       "      <td>ReeseÕs stuffed with pieces</td>\n",
       "      <td>1</td>\n",
       "      <td>0</td>\n",
       "      <td>0</td>\n",
       "      <td>1</td>\n",
       "      <td>0</td>\n",
       "      <td>0</td>\n",
       "      <td>0</td>\n",
       "      <td>0</td>\n",
       "      <td>0</td>\n",
       "      <td>72.888</td>\n",
       "    </tr>\n",
       "    <tr>\n",
       "      <th>33</th>\n",
       "      <td>Peanut butter M&amp;MÕs</td>\n",
       "      <td>1</td>\n",
       "      <td>0</td>\n",
       "      <td>0</td>\n",
       "      <td>1</td>\n",
       "      <td>0</td>\n",
       "      <td>0</td>\n",
       "      <td>0</td>\n",
       "      <td>0</td>\n",
       "      <td>1</td>\n",
       "      <td>71.465</td>\n",
       "    </tr>\n",
       "    <tr>\n",
       "      <th>43</th>\n",
       "      <td>Nestle Butterfinger</td>\n",
       "      <td>1</td>\n",
       "      <td>0</td>\n",
       "      <td>0</td>\n",
       "      <td>1</td>\n",
       "      <td>0</td>\n",
       "      <td>0</td>\n",
       "      <td>0</td>\n",
       "      <td>1</td>\n",
       "      <td>0</td>\n",
       "      <td>70.736</td>\n",
       "    </tr>\n",
       "  </tbody>\n",
       "</table>\n",
       "</div>"
      ],
      "text/plain": [
       "                          brand  choc  fruit  caramel  nuty  nougat  crisp  \\\n",
       "53    ReeseÕs Peanut Butter cup     1      0        0     1       0      0   \n",
       "52           ReeseÕs Miniatures     1      0        0     1       0      0   \n",
       "80                         Twix     1      0        1     0       0      1   \n",
       "29                      Kit Kat     1      0        0     0       0      1   \n",
       "65                     Snickers     1      0        1     1       1      0   \n",
       "54               ReeseÕs pieces     1      0        0     1       0      0   \n",
       "37                    Milky Way     1      0        1     0       1      0   \n",
       "55  ReeseÕs stuffed with pieces     1      0        0     1       0      0   \n",
       "33          Peanut butter M&MÕs     1      0        0     1       0      0   \n",
       "43          Nestle Butterfinger     1      0        0     1       0      0   \n",
       "\n",
       "    hard  bar  plur   winpc  \n",
       "53     0    0     0  84.180  \n",
       "52     0    0     0  81.866  \n",
       "80     0    1     0  81.643  \n",
       "29     0    1     0  76.769  \n",
       "65     0    1     0  76.674  \n",
       "54     0    0     1  73.435  \n",
       "37     0    1     0  73.100  \n",
       "55     0    0     0  72.888  \n",
       "33     0    0     1  71.465  \n",
       "43     0    1     0  70.736  "
      ]
     },
     "execution_count": 33,
     "metadata": {},
     "output_type": "execute_result"
    }
   ],
   "source": [
    "df.sort_values(by=['winpc'], ascending=False).head(10)"
   ]
  },
  {
   "cell_type": "markdown",
   "metadata": {},
   "source": [
    "It is likely that there are interactions between explanatory variables.  For instance, 7 out of the top 10 bars have the _choc_, _nuty_ combination.  However, to consider all nine predictors and interactions among these variables would result in a model so complex that it would impeed analysis. "
   ]
  },
  {
   "cell_type": "markdown",
   "metadata": {},
   "source": [
    "## Conclusion\n",
    "\n",
    "To answer the primary research question of explanatory variables that contribute to most of the variance in the outcome, I conducted two primary tests: a simple linear regression and a multiple linear regression. \n",
    "\n",
    "Simple linear regression explored the effect of the _choc_ variable alone.  There was a positive step increase of 18.779 percentage points in the mean of the group with _choc_ compared to the reference level (mean of group without _choc_).  This increase was significant (t(36, p<0.05) = 7.519) indicating that inclusion of chocolate in a candy bar leads to increase in candy bar rating.  \n",
    "\n",
    "Multiple linear regression examined the impact of all nine binary explanatory variables.  By observing the effect on the R-squared value when variables are omitted from the 9 variable model, I arrived at an optimal set of variables (_choc_, _fruit_, _nuty_).  Overall, the model was significant (F(3, 82)=23.68, p<.05), and could account for 46.7% of the variance in the outcome (Adjusted R2=44.8%). The best predictor of candy bar rating was \n",
    "_choc_ which could account for a unique proportion of variance in the outcome of 40.5%.\n"
   ]
  },
  {
   "cell_type": "markdown",
   "metadata": {},
   "source": [
    "# Clustering"
   ]
  },
  {
   "cell_type": "markdown",
   "metadata": {},
   "source": [
    "Clustering has use in both Exploratory Data Analysis and for Classification by unsupervised learning.  It involves finding natural groupings in the data.  Consider these groupings as areas of high density in the feature space.  It is a two step process.  The inductive step constructs a model of the groupings or clusters from training data.  Next the deductive step applies this model to test data in order to classify it as belonging to a particular grouping.   \n",
    "![](./build-classification-model.jpeg)  \n",
    "__Figure 4: Building a Classification Model__  \n",
    "(Tan, Kumar and Steinbach, 2016)  \n",
    "\n",
    "## K Nearest Neighbours\n",
    "A test point that needs classification.  The KNN algorithm inspects the k points nearest to the test point.  It assigns a class to the test point based on the class of the k neighbours.  "
   ]
  },
  {
   "cell_type": "code",
   "execution_count": 69,
   "metadata": {},
   "outputs": [
    {
     "data": {
      "image/jpeg": "[encoded data removed]",
      "text/plain": [
       "<IPython.core.display.Image object>"
      ]
     },
     "execution_count": 69,
     "metadata": {
      "image/jpeg": {
       "width": 500
      }
     },
     "output_type": "execute_result"
    }
   ],
   "source": [
    "Image(filename='./knn-points.jpeg', width=500)"
   ]
  },
  {
   "cell_type": "markdown",
   "metadata": {},
   "source": [
    "In the above example, when k = 1, the test point x gets assigned to the $-$ class.  In comparison, for k = 3, x gets the $+$ class.  This illustrates use of the majority scheme to determine similarity.  \n",
    "\n",
    "In effect, K-nearest neighbours operates on the principle \n",
    "> If it looks like a duck and waddles like a duck and quacks like a duck  \n",
    "> Then it is a duck\n",
    "\n",
    "Choosing the value of k is a critical issue.  If it is too small, then the model will adapt to both signal and noise in the training data resulting in overfitting.  If it is too large, then the test point can be assigned to the class of those instances that are from away from it.  And so, there is underfitting.\n",
    "\n",
    "A way to avoid underfitting is through the distance-weighted voting scheme.  In this case, instances that are close to x get a greater weighting than those far from x.\n",
    "\n",
    "## Justification for KNN Classification\n",
    "The primary advantages are \n",
    "* Ease of interpretation    \n",
    "* Efficient compute time  \n",
    "\n",
    "In addition,  \n",
    "* Predictive power   \n",
    "    It gets a 2 out of 3 rating for predictive power when compared with logistic regression, CART and Random Forest (Srivastava, 2018).\n",
    "\n",
    "## Justification for the non-voters dataset\n",
    "(Thomson-DeVeaux, Mithani and Bronner, 2020)  \n",
    "\n",
    "* The response variable is categorical with three categories.  Thus it facilitates assessment of a multi-class classifier on a simple dataset (with only three classes).  \n",
    "* Explanatory variables record response to political questions as discrete numerical data.  As a result, the algorithm can calculate similarity measures.\n",
    "\n",
    "* This is an extensive dataset with 5,835 respondents (rows) and 33 questions.  Each question has as set of possible replies.  \n",
    "\n",
    "* There is a codebook available that details each of the variables.\n"
   ]
  },
  {
   "cell_type": "markdown",
   "metadata": {},
   "source": [
    "> <span style=\"color:darkblue\">Primary Research Question:</span>  \n",
    "> Is it possible to predict a person's voting intentions based on their views about\n",
    "> political and social issues.  \n",
    "> What proportion of correct predictions does the KNN algorithm make when applied to the _non-voters_ dataset?\n",
    "\n",
    "__Initialisation__"
   ]
  },
  {
   "cell_type": "code",
   "execution_count": 21,
   "metadata": {},
   "outputs": [],
   "source": [
    "from IPython.display import Image\n",
    "from IPython.display import display \n",
    "\n",
    "from sklearn.model_selection import train_test_split\n",
    "from sklearn.preprocessing import StandardScaler\n",
    "from sklearn.neighbors import KNeighborsClassifier\n",
    "from sklearn.metrics import confusion_matrix\n",
    "from sklearn.metrics import accuracy_score\n",
    "from sklearn.metrics import classification_report\n",
    "from sklearn.metrics import precision_score\n",
    "from sklearn.metrics import recall_score"
   ]
  },
  {
   "cell_type": "code",
   "execution_count": 4,
   "metadata": {},
   "outputs": [],
   "source": [
    "nv_df= pd.read_csv('./non-voters/nonvoters_data.csv')\n"
   ]
  },
  {
   "cell_type": "markdown",
   "metadata": {},
   "source": [
    "## Exploratory Data Analysis\n"
   ]
  },
  {
   "cell_type": "code",
   "execution_count": 5,
   "metadata": {},
   "outputs": [
    {
     "data": {
      "text/html": [
       "<div>\n",
       "<style scoped>\n",
       "    .dataframe tbody tr th:only-of-type {\n",
       "        vertical-align: middle;\n",
       "    }\n",
       "\n",
       "    .dataframe tbody tr th {\n",
       "        vertical-align: top;\n",
       "    }\n",
       "\n",
       "    .dataframe thead th {\n",
       "        text-align: right;\n",
       "    }\n",
       "</style>\n",
       "<table border=\"1\" class=\"dataframe\">\n",
       "  <thead>\n",
       "    <tr style=\"text-align: right;\">\n",
       "      <th></th>\n",
       "      <th>RespId</th>\n",
       "      <th>weight</th>\n",
       "      <th>Q1</th>\n",
       "      <th>Q2_1</th>\n",
       "      <th>Q2_2</th>\n",
       "      <th>Q2_3</th>\n",
       "      <th>Q2_4</th>\n",
       "      <th>Q2_5</th>\n",
       "      <th>Q2_6</th>\n",
       "      <th>Q2_7</th>\n",
       "      <th>Q2_8</th>\n",
       "      <th>Q2_9</th>\n",
       "      <th>Q2_10</th>\n",
       "      <th>Q3_1</th>\n",
       "      <th>Q3_2</th>\n",
       "      <th>Q3_3</th>\n",
       "      <th>Q3_4</th>\n",
       "      <th>Q3_5</th>\n",
       "      <th>Q3_6</th>\n",
       "      <th>Q4_1</th>\n",
       "      <th>Q4_2</th>\n",
       "      <th>Q4_3</th>\n",
       "      <th>Q4_4</th>\n",
       "      <th>Q4_5</th>\n",
       "      <th>Q4_6</th>\n",
       "      <th>Q5</th>\n",
       "      <th>Q6</th>\n",
       "      <th>Q7</th>\n",
       "      <th>Q8_1</th>\n",
       "      <th>Q8_2</th>\n",
       "      <th>Q8_3</th>\n",
       "      <th>Q8_4</th>\n",
       "      <th>Q8_5</th>\n",
       "      <th>Q8_6</th>\n",
       "      <th>Q8_7</th>\n",
       "      <th>Q8_8</th>\n",
       "      <th>Q8_9</th>\n",
       "      <th>Q9_1</th>\n",
       "      <th>Q9_2</th>\n",
       "      <th>Q9_3</th>\n",
       "      <th>Q9_4</th>\n",
       "      <th>Q10_1</th>\n",
       "      <th>Q10_2</th>\n",
       "      <th>Q10_3</th>\n",
       "      <th>Q10_4</th>\n",
       "      <th>Q11_1</th>\n",
       "      <th>Q11_2</th>\n",
       "      <th>Q11_3</th>\n",
       "      <th>Q11_4</th>\n",
       "      <th>Q11_5</th>\n",
       "      <th>Q11_6</th>\n",
       "      <th>Q14</th>\n",
       "      <th>Q15</th>\n",
       "      <th>Q16</th>\n",
       "      <th>Q17_1</th>\n",
       "      <th>Q17_2</th>\n",
       "      <th>Q17_3</th>\n",
       "      <th>Q17_4</th>\n",
       "      <th>Q18_1</th>\n",
       "      <th>Q18_2</th>\n",
       "      <th>Q18_3</th>\n",
       "      <th>Q18_4</th>\n",
       "      <th>Q18_5</th>\n",
       "      <th>Q18_6</th>\n",
       "      <th>Q18_7</th>\n",
       "      <th>Q18_8</th>\n",
       "      <th>Q18_9</th>\n",
       "      <th>Q18_10</th>\n",
       "      <th>Q19_1</th>\n",
       "      <th>Q19_2</th>\n",
       "      <th>Q19_3</th>\n",
       "      <th>Q19_4</th>\n",
       "      <th>Q19_5</th>\n",
       "      <th>Q19_6</th>\n",
       "      <th>Q19_7</th>\n",
       "      <th>Q19_8</th>\n",
       "      <th>Q19_9</th>\n",
       "      <th>Q19_10</th>\n",
       "      <th>Q20</th>\n",
       "      <th>Q21</th>\n",
       "      <th>Q22</th>\n",
       "      <th>Q23</th>\n",
       "      <th>Q24</th>\n",
       "      <th>Q25</th>\n",
       "      <th>Q26</th>\n",
       "      <th>Q27_1</th>\n",
       "      <th>Q27_2</th>\n",
       "      <th>Q27_3</th>\n",
       "      <th>Q27_4</th>\n",
       "      <th>Q27_5</th>\n",
       "      <th>Q27_6</th>\n",
       "      <th>Q28_1</th>\n",
       "      <th>Q28_2</th>\n",
       "      <th>Q28_3</th>\n",
       "      <th>Q28_4</th>\n",
       "      <th>Q28_5</th>\n",
       "      <th>Q28_6</th>\n",
       "      <th>Q28_7</th>\n",
       "      <th>Q28_8</th>\n",
       "      <th>Q29_1</th>\n",
       "      <th>Q29_2</th>\n",
       "      <th>Q29_3</th>\n",
       "      <th>Q29_4</th>\n",
       "      <th>Q29_5</th>\n",
       "      <th>Q29_6</th>\n",
       "      <th>Q29_7</th>\n",
       "      <th>Q29_8</th>\n",
       "      <th>Q29_9</th>\n",
       "      <th>Q29_10</th>\n",
       "      <th>Q30</th>\n",
       "      <th>Q31</th>\n",
       "      <th>Q32</th>\n",
       "      <th>Q33</th>\n",
       "      <th>ppage</th>\n",
       "      <th>educ</th>\n",
       "      <th>race</th>\n",
       "      <th>gender</th>\n",
       "      <th>income_cat</th>\n",
       "      <th>voter_category</th>\n",
       "    </tr>\n",
       "  </thead>\n",
       "  <tbody>\n",
       "    <tr>\n",
       "      <th>0</th>\n",
       "      <td>470001</td>\n",
       "      <td>0.752</td>\n",
       "      <td>1</td>\n",
       "      <td>1</td>\n",
       "      <td>1</td>\n",
       "      <td>2</td>\n",
       "      <td>4</td>\n",
       "      <td>1</td>\n",
       "      <td>4</td>\n",
       "      <td>2</td>\n",
       "      <td>2</td>\n",
       "      <td>4</td>\n",
       "      <td>2</td>\n",
       "      <td>1</td>\n",
       "      <td>1</td>\n",
       "      <td>4</td>\n",
       "      <td>4</td>\n",
       "      <td>3</td>\n",
       "      <td>2</td>\n",
       "      <td>2</td>\n",
       "      <td>1</td>\n",
       "      <td>2</td>\n",
       "      <td>2</td>\n",
       "      <td>2</td>\n",
       "      <td>2</td>\n",
       "      <td>1</td>\n",
       "      <td>2</td>\n",
       "      <td>1</td>\n",
       "      <td>3</td>\n",
       "      <td>4</td>\n",
       "      <td>2</td>\n",
       "      <td>1</td>\n",
       "      <td>1</td>\n",
       "      <td>1</td>\n",
       "      <td>1</td>\n",
       "      <td>2</td>\n",
       "      <td>4</td>\n",
       "      <td>2</td>\n",
       "      <td>2</td>\n",
       "      <td>4</td>\n",
       "      <td>4</td>\n",
       "      <td>2</td>\n",
       "      <td>2</td>\n",
       "      <td>2</td>\n",
       "      <td>2</td>\n",
       "      <td>2</td>\n",
       "      <td>2</td>\n",
       "      <td>2</td>\n",
       "      <td>2</td>\n",
       "      <td>2</td>\n",
       "      <td>2</td>\n",
       "      <td>5</td>\n",
       "      <td>1</td>\n",
       "      <td>1</td>\n",
       "      <td>1</td>\n",
       "      <td>1</td>\n",
       "      <td>1</td>\n",
       "      <td>3</td>\n",
       "      <td>2</td>\n",
       "      <td>2</td>\n",
       "      <td>2</td>\n",
       "      <td>2</td>\n",
       "      <td>2</td>\n",
       "      <td>2</td>\n",
       "      <td>2</td>\n",
       "      <td>2</td>\n",
       "      <td>2</td>\n",
       "      <td>2</td>\n",
       "      <td>-1</td>\n",
       "      <td>-1</td>\n",
       "      <td>1</td>\n",
       "      <td>1</td>\n",
       "      <td>1</td>\n",
       "      <td>1</td>\n",
       "      <td>1</td>\n",
       "      <td>-1</td>\n",
       "      <td>-1</td>\n",
       "      <td>-1</td>\n",
       "      <td>1</td>\n",
       "      <td>1</td>\n",
       "      <td>NaN</td>\n",
       "      <td>2</td>\n",
       "      <td>1</td>\n",
       "      <td>1</td>\n",
       "      <td>1</td>\n",
       "      <td>1</td>\n",
       "      <td>1</td>\n",
       "      <td>1</td>\n",
       "      <td>1</td>\n",
       "      <td>1</td>\n",
       "      <td>1</td>\n",
       "      <td>1.0</td>\n",
       "      <td>1.0</td>\n",
       "      <td>1.0</td>\n",
       "      <td>1.0</td>\n",
       "      <td>-1.0</td>\n",
       "      <td>-1.0</td>\n",
       "      <td>1.0</td>\n",
       "      <td>-1.0</td>\n",
       "      <td>NaN</td>\n",
       "      <td>NaN</td>\n",
       "      <td>NaN</td>\n",
       "      <td>NaN</td>\n",
       "      <td>NaN</td>\n",
       "      <td>NaN</td>\n",
       "      <td>NaN</td>\n",
       "      <td>NaN</td>\n",
       "      <td>NaN</td>\n",
       "      <td>NaN</td>\n",
       "      <td>2</td>\n",
       "      <td>NaN</td>\n",
       "      <td>1.0</td>\n",
       "      <td>NaN</td>\n",
       "      <td>73</td>\n",
       "      <td>College</td>\n",
       "      <td>White</td>\n",
       "      <td>Female</td>\n",
       "      <td>$75-125k</td>\n",
       "      <td>always</td>\n",
       "    </tr>\n",
       "    <tr>\n",
       "      <th>1</th>\n",
       "      <td>470002</td>\n",
       "      <td>1.027</td>\n",
       "      <td>1</td>\n",
       "      <td>1</td>\n",
       "      <td>2</td>\n",
       "      <td>2</td>\n",
       "      <td>3</td>\n",
       "      <td>1</td>\n",
       "      <td>1</td>\n",
       "      <td>2</td>\n",
       "      <td>1</td>\n",
       "      <td>1</td>\n",
       "      <td>3</td>\n",
       "      <td>3</td>\n",
       "      <td>3</td>\n",
       "      <td>4</td>\n",
       "      <td>3</td>\n",
       "      <td>3</td>\n",
       "      <td>2</td>\n",
       "      <td>2</td>\n",
       "      <td>2</td>\n",
       "      <td>2</td>\n",
       "      <td>3</td>\n",
       "      <td>3</td>\n",
       "      <td>1</td>\n",
       "      <td>1</td>\n",
       "      <td>2</td>\n",
       "      <td>2</td>\n",
       "      <td>2</td>\n",
       "      <td>3</td>\n",
       "      <td>2</td>\n",
       "      <td>2</td>\n",
       "      <td>2</td>\n",
       "      <td>2</td>\n",
       "      <td>3</td>\n",
       "      <td>2</td>\n",
       "      <td>2</td>\n",
       "      <td>1</td>\n",
       "      <td>1</td>\n",
       "      <td>3</td>\n",
       "      <td>4</td>\n",
       "      <td>2</td>\n",
       "      <td>2</td>\n",
       "      <td>2</td>\n",
       "      <td>2</td>\n",
       "      <td>2</td>\n",
       "      <td>2</td>\n",
       "      <td>1</td>\n",
       "      <td>2</td>\n",
       "      <td>2</td>\n",
       "      <td>2</td>\n",
       "      <td>1</td>\n",
       "      <td>1</td>\n",
       "      <td>2</td>\n",
       "      <td>2</td>\n",
       "      <td>2</td>\n",
       "      <td>2</td>\n",
       "      <td>3</td>\n",
       "      <td>2</td>\n",
       "      <td>2</td>\n",
       "      <td>2</td>\n",
       "      <td>2</td>\n",
       "      <td>2</td>\n",
       "      <td>2</td>\n",
       "      <td>2</td>\n",
       "      <td>2</td>\n",
       "      <td>2</td>\n",
       "      <td>2</td>\n",
       "      <td>-1</td>\n",
       "      <td>1</td>\n",
       "      <td>-1</td>\n",
       "      <td>-1</td>\n",
       "      <td>-1</td>\n",
       "      <td>-1</td>\n",
       "      <td>-1</td>\n",
       "      <td>-1</td>\n",
       "      <td>-1</td>\n",
       "      <td>-1</td>\n",
       "      <td>1</td>\n",
       "      <td>1</td>\n",
       "      <td>NaN</td>\n",
       "      <td>1</td>\n",
       "      <td>3</td>\n",
       "      <td>3</td>\n",
       "      <td>1</td>\n",
       "      <td>1</td>\n",
       "      <td>1</td>\n",
       "      <td>1</td>\n",
       "      <td>1</td>\n",
       "      <td>1</td>\n",
       "      <td>1</td>\n",
       "      <td>1.0</td>\n",
       "      <td>-1.0</td>\n",
       "      <td>-1.0</td>\n",
       "      <td>-1.0</td>\n",
       "      <td>-1.0</td>\n",
       "      <td>1.0</td>\n",
       "      <td>-1.0</td>\n",
       "      <td>-1.0</td>\n",
       "      <td>NaN</td>\n",
       "      <td>NaN</td>\n",
       "      <td>NaN</td>\n",
       "      <td>NaN</td>\n",
       "      <td>NaN</td>\n",
       "      <td>NaN</td>\n",
       "      <td>NaN</td>\n",
       "      <td>NaN</td>\n",
       "      <td>NaN</td>\n",
       "      <td>NaN</td>\n",
       "      <td>3</td>\n",
       "      <td>NaN</td>\n",
       "      <td>NaN</td>\n",
       "      <td>1.0</td>\n",
       "      <td>90</td>\n",
       "      <td>College</td>\n",
       "      <td>White</td>\n",
       "      <td>Female</td>\n",
       "      <td>$125k or more</td>\n",
       "      <td>always</td>\n",
       "    </tr>\n",
       "    <tr>\n",
       "      <th>2</th>\n",
       "      <td>470003</td>\n",
       "      <td>1.084</td>\n",
       "      <td>1</td>\n",
       "      <td>1</td>\n",
       "      <td>1</td>\n",
       "      <td>2</td>\n",
       "      <td>2</td>\n",
       "      <td>1</td>\n",
       "      <td>1</td>\n",
       "      <td>2</td>\n",
       "      <td>1</td>\n",
       "      <td>4</td>\n",
       "      <td>3</td>\n",
       "      <td>2</td>\n",
       "      <td>2</td>\n",
       "      <td>3</td>\n",
       "      <td>3</td>\n",
       "      <td>2</td>\n",
       "      <td>2</td>\n",
       "      <td>2</td>\n",
       "      <td>2</td>\n",
       "      <td>3</td>\n",
       "      <td>3</td>\n",
       "      <td>2</td>\n",
       "      <td>3</td>\n",
       "      <td>1</td>\n",
       "      <td>1</td>\n",
       "      <td>1</td>\n",
       "      <td>3</td>\n",
       "      <td>2</td>\n",
       "      <td>1</td>\n",
       "      <td>1</td>\n",
       "      <td>2</td>\n",
       "      <td>2</td>\n",
       "      <td>2</td>\n",
       "      <td>2</td>\n",
       "      <td>1</td>\n",
       "      <td>1</td>\n",
       "      <td>2</td>\n",
       "      <td>4</td>\n",
       "      <td>4</td>\n",
       "      <td>2</td>\n",
       "      <td>2</td>\n",
       "      <td>1</td>\n",
       "      <td>2</td>\n",
       "      <td>2</td>\n",
       "      <td>2</td>\n",
       "      <td>1</td>\n",
       "      <td>2</td>\n",
       "      <td>1</td>\n",
       "      <td>2</td>\n",
       "      <td>5</td>\n",
       "      <td>2</td>\n",
       "      <td>1</td>\n",
       "      <td>1</td>\n",
       "      <td>3</td>\n",
       "      <td>1</td>\n",
       "      <td>1</td>\n",
       "      <td>2</td>\n",
       "      <td>2</td>\n",
       "      <td>2</td>\n",
       "      <td>2</td>\n",
       "      <td>2</td>\n",
       "      <td>2</td>\n",
       "      <td>1</td>\n",
       "      <td>2</td>\n",
       "      <td>2</td>\n",
       "      <td>2</td>\n",
       "      <td>-1</td>\n",
       "      <td>1</td>\n",
       "      <td>-1</td>\n",
       "      <td>1</td>\n",
       "      <td>-1</td>\n",
       "      <td>-1</td>\n",
       "      <td>-1</td>\n",
       "      <td>1</td>\n",
       "      <td>1</td>\n",
       "      <td>-1</td>\n",
       "      <td>1</td>\n",
       "      <td>1</td>\n",
       "      <td>NaN</td>\n",
       "      <td>2</td>\n",
       "      <td>1</td>\n",
       "      <td>2</td>\n",
       "      <td>1</td>\n",
       "      <td>1</td>\n",
       "      <td>1</td>\n",
       "      <td>1</td>\n",
       "      <td>1</td>\n",
       "      <td>1</td>\n",
       "      <td>1</td>\n",
       "      <td>1.0</td>\n",
       "      <td>-1.0</td>\n",
       "      <td>-1.0</td>\n",
       "      <td>-1.0</td>\n",
       "      <td>-1.0</td>\n",
       "      <td>-1.0</td>\n",
       "      <td>1.0</td>\n",
       "      <td>-1.0</td>\n",
       "      <td>NaN</td>\n",
       "      <td>NaN</td>\n",
       "      <td>NaN</td>\n",
       "      <td>NaN</td>\n",
       "      <td>NaN</td>\n",
       "      <td>NaN</td>\n",
       "      <td>NaN</td>\n",
       "      <td>NaN</td>\n",
       "      <td>NaN</td>\n",
       "      <td>NaN</td>\n",
       "      <td>2</td>\n",
       "      <td>NaN</td>\n",
       "      <td>2.0</td>\n",
       "      <td>NaN</td>\n",
       "      <td>53</td>\n",
       "      <td>College</td>\n",
       "      <td>White</td>\n",
       "      <td>Male</td>\n",
       "      <td>$125k or more</td>\n",
       "      <td>sporadic</td>\n",
       "    </tr>\n",
       "    <tr>\n",
       "      <th>3</th>\n",
       "      <td>470007</td>\n",
       "      <td>0.682</td>\n",
       "      <td>1</td>\n",
       "      <td>1</td>\n",
       "      <td>1</td>\n",
       "      <td>1</td>\n",
       "      <td>3</td>\n",
       "      <td>1</td>\n",
       "      <td>1</td>\n",
       "      <td>1</td>\n",
       "      <td>1</td>\n",
       "      <td>1</td>\n",
       "      <td>2</td>\n",
       "      <td>1</td>\n",
       "      <td>1</td>\n",
       "      <td>4</td>\n",
       "      <td>4</td>\n",
       "      <td>2</td>\n",
       "      <td>1</td>\n",
       "      <td>1</td>\n",
       "      <td>2</td>\n",
       "      <td>2</td>\n",
       "      <td>2</td>\n",
       "      <td>2</td>\n",
       "      <td>2</td>\n",
       "      <td>1</td>\n",
       "      <td>3</td>\n",
       "      <td>1</td>\n",
       "      <td>3</td>\n",
       "      <td>2</td>\n",
       "      <td>2</td>\n",
       "      <td>2</td>\n",
       "      <td>2</td>\n",
       "      <td>2</td>\n",
       "      <td>2</td>\n",
       "      <td>2</td>\n",
       "      <td>2</td>\n",
       "      <td>1</td>\n",
       "      <td>2</td>\n",
       "      <td>4</td>\n",
       "      <td>4</td>\n",
       "      <td>2</td>\n",
       "      <td>2</td>\n",
       "      <td>2</td>\n",
       "      <td>2</td>\n",
       "      <td>1</td>\n",
       "      <td>2</td>\n",
       "      <td>2</td>\n",
       "      <td>2</td>\n",
       "      <td>1</td>\n",
       "      <td>2</td>\n",
       "      <td>5</td>\n",
       "      <td>1</td>\n",
       "      <td>4</td>\n",
       "      <td>1</td>\n",
       "      <td>1</td>\n",
       "      <td>1</td>\n",
       "      <td>1</td>\n",
       "      <td>2</td>\n",
       "      <td>2</td>\n",
       "      <td>2</td>\n",
       "      <td>2</td>\n",
       "      <td>2</td>\n",
       "      <td>2</td>\n",
       "      <td>2</td>\n",
       "      <td>2</td>\n",
       "      <td>2</td>\n",
       "      <td>2</td>\n",
       "      <td>-1</td>\n",
       "      <td>-1</td>\n",
       "      <td>1</td>\n",
       "      <td>-1</td>\n",
       "      <td>-1</td>\n",
       "      <td>-1</td>\n",
       "      <td>-1</td>\n",
       "      <td>1</td>\n",
       "      <td>-1</td>\n",
       "      <td>1</td>\n",
       "      <td>1</td>\n",
       "      <td>1</td>\n",
       "      <td>NaN</td>\n",
       "      <td>2</td>\n",
       "      <td>1</td>\n",
       "      <td>2</td>\n",
       "      <td>1</td>\n",
       "      <td>1</td>\n",
       "      <td>1</td>\n",
       "      <td>1</td>\n",
       "      <td>1</td>\n",
       "      <td>1</td>\n",
       "      <td>1</td>\n",
       "      <td>1.0</td>\n",
       "      <td>1.0</td>\n",
       "      <td>-1.0</td>\n",
       "      <td>1.0</td>\n",
       "      <td>-1.0</td>\n",
       "      <td>-1.0</td>\n",
       "      <td>-1.0</td>\n",
       "      <td>-1.0</td>\n",
       "      <td>NaN</td>\n",
       "      <td>NaN</td>\n",
       "      <td>NaN</td>\n",
       "      <td>NaN</td>\n",
       "      <td>NaN</td>\n",
       "      <td>NaN</td>\n",
       "      <td>NaN</td>\n",
       "      <td>NaN</td>\n",
       "      <td>NaN</td>\n",
       "      <td>NaN</td>\n",
       "      <td>2</td>\n",
       "      <td>NaN</td>\n",
       "      <td>1.0</td>\n",
       "      <td>NaN</td>\n",
       "      <td>58</td>\n",
       "      <td>Some college</td>\n",
       "      <td>Black</td>\n",
       "      <td>Female</td>\n",
       "      <td>$40-75k</td>\n",
       "      <td>sporadic</td>\n",
       "    </tr>\n",
       "    <tr>\n",
       "      <th>4</th>\n",
       "      <td>480008</td>\n",
       "      <td>0.991</td>\n",
       "      <td>1</td>\n",
       "      <td>1</td>\n",
       "      <td>1</td>\n",
       "      <td>-1</td>\n",
       "      <td>1</td>\n",
       "      <td>1</td>\n",
       "      <td>1</td>\n",
       "      <td>1</td>\n",
       "      <td>1</td>\n",
       "      <td>1</td>\n",
       "      <td>1</td>\n",
       "      <td>4</td>\n",
       "      <td>-1</td>\n",
       "      <td>1</td>\n",
       "      <td>1</td>\n",
       "      <td>2</td>\n",
       "      <td>4</td>\n",
       "      <td>1</td>\n",
       "      <td>1</td>\n",
       "      <td>1</td>\n",
       "      <td>1</td>\n",
       "      <td>1</td>\n",
       "      <td>1</td>\n",
       "      <td>1</td>\n",
       "      <td>2</td>\n",
       "      <td>2</td>\n",
       "      <td>1</td>\n",
       "      <td>3</td>\n",
       "      <td>2</td>\n",
       "      <td>3</td>\n",
       "      <td>3</td>\n",
       "      <td>3</td>\n",
       "      <td>4</td>\n",
       "      <td>2</td>\n",
       "      <td>2</td>\n",
       "      <td>1</td>\n",
       "      <td>4</td>\n",
       "      <td>3</td>\n",
       "      <td>4</td>\n",
       "      <td>2</td>\n",
       "      <td>2</td>\n",
       "      <td>2</td>\n",
       "      <td>2</td>\n",
       "      <td>2</td>\n",
       "      <td>2</td>\n",
       "      <td>1</td>\n",
       "      <td>2</td>\n",
       "      <td>2</td>\n",
       "      <td>2</td>\n",
       "      <td>1</td>\n",
       "      <td>5</td>\n",
       "      <td>1</td>\n",
       "      <td>2</td>\n",
       "      <td>2</td>\n",
       "      <td>4</td>\n",
       "      <td>4</td>\n",
       "      <td>2</td>\n",
       "      <td>2</td>\n",
       "      <td>2</td>\n",
       "      <td>2</td>\n",
       "      <td>2</td>\n",
       "      <td>2</td>\n",
       "      <td>2</td>\n",
       "      <td>2</td>\n",
       "      <td>2</td>\n",
       "      <td>2</td>\n",
       "      <td>-1</td>\n",
       "      <td>-1</td>\n",
       "      <td>-1</td>\n",
       "      <td>-1</td>\n",
       "      <td>-1</td>\n",
       "      <td>-1</td>\n",
       "      <td>-1</td>\n",
       "      <td>-1</td>\n",
       "      <td>-1</td>\n",
       "      <td>-1</td>\n",
       "      <td>1</td>\n",
       "      <td>1</td>\n",
       "      <td>NaN</td>\n",
       "      <td>1</td>\n",
       "      <td>3</td>\n",
       "      <td>1</td>\n",
       "      <td>1</td>\n",
       "      <td>1</td>\n",
       "      <td>1</td>\n",
       "      <td>1</td>\n",
       "      <td>1</td>\n",
       "      <td>1</td>\n",
       "      <td>1</td>\n",
       "      <td>1.0</td>\n",
       "      <td>1.0</td>\n",
       "      <td>1.0</td>\n",
       "      <td>-1.0</td>\n",
       "      <td>1.0</td>\n",
       "      <td>-1.0</td>\n",
       "      <td>1.0</td>\n",
       "      <td>-1.0</td>\n",
       "      <td>NaN</td>\n",
       "      <td>NaN</td>\n",
       "      <td>NaN</td>\n",
       "      <td>NaN</td>\n",
       "      <td>NaN</td>\n",
       "      <td>NaN</td>\n",
       "      <td>NaN</td>\n",
       "      <td>NaN</td>\n",
       "      <td>NaN</td>\n",
       "      <td>NaN</td>\n",
       "      <td>1</td>\n",
       "      <td>-1.0</td>\n",
       "      <td>NaN</td>\n",
       "      <td>NaN</td>\n",
       "      <td>81</td>\n",
       "      <td>High school or less</td>\n",
       "      <td>White</td>\n",
       "      <td>Male</td>\n",
       "      <td>$40-75k</td>\n",
       "      <td>always</td>\n",
       "    </tr>\n",
       "  </tbody>\n",
       "</table>\n",
       "</div>"
      ],
      "text/plain": [
       "   RespId  weight  Q1  Q2_1  Q2_2  Q2_3  Q2_4  Q2_5  Q2_6  Q2_7  Q2_8  Q2_9  \\\n",
       "0  470001   0.752   1     1     1     2     4     1     4     2     2     4   \n",
       "1  470002   1.027   1     1     2     2     3     1     1     2     1     1   \n",
       "2  470003   1.084   1     1     1     2     2     1     1     2     1     4   \n",
       "3  470007   0.682   1     1     1     1     3     1     1     1     1     1   \n",
       "4  480008   0.991   1     1     1    -1     1     1     1     1     1     1   \n",
       "\n",
       "   Q2_10  Q3_1  Q3_2  Q3_3  Q3_4  Q3_5  Q3_6  Q4_1  Q4_2  Q4_3  Q4_4  Q4_5  \\\n",
       "0      2     1     1     4     4     3     2     2     1     2     2     2   \n",
       "1      3     3     3     4     3     3     2     2     2     2     3     3   \n",
       "2      3     2     2     3     3     2     2     2     2     3     3     2   \n",
       "3      2     1     1     4     4     2     1     1     2     2     2     2   \n",
       "4      1     4    -1     1     1     2     4     1     1     1     1     1   \n",
       "\n",
       "   Q4_6  Q5  Q6  Q7  Q8_1  Q8_2  Q8_3  Q8_4  Q8_5  Q8_6  Q8_7  Q8_8  Q8_9  \\\n",
       "0     2   1   2   1     3     4     2     1     1     1     1     2     4   \n",
       "1     1   1   2   2     2     3     2     2     2     2     3     2     2   \n",
       "2     3   1   1   1     3     2     1     1     2     2     2     2     1   \n",
       "3     2   1   3   1     3     2     2     2     2     2     2     2     2   \n",
       "4     1   1   2   2     1     3     2     3     3     3     4     2     2   \n",
       "\n",
       "   Q9_1  Q9_2  Q9_3  Q9_4  Q10_1  Q10_2  Q10_3  Q10_4  Q11_1  Q11_2  Q11_3  \\\n",
       "0     2     2     4     4      2      2      2      2      2      2      2   \n",
       "1     1     1     3     4      2      2      2      2      2      2      1   \n",
       "2     1     2     4     4      2      2      1      2      2      2      1   \n",
       "3     1     2     4     4      2      2      2      2      1      2      2   \n",
       "4     1     4     3     4      2      2      2      2      2      2      1   \n",
       "\n",
       "   Q11_4  Q11_5  Q11_6  Q14  Q15  Q16  Q17_1  Q17_2  Q17_3  Q17_4  Q18_1  \\\n",
       "0      2      2      2    5    1    1      1      1      1      3      2   \n",
       "1      2      2      2    1    1    2      2      2      2      3      2   \n",
       "2      2      1      2    5    2    1      1      3      1      1      2   \n",
       "3      2      1      2    5    1    4      1      1      1      1      2   \n",
       "4      2      2      2    1    5    1      2      2      4      4      2   \n",
       "\n",
       "   Q18_2  Q18_3  Q18_4  Q18_5  Q18_6  Q18_7  Q18_8  Q18_9  Q18_10  Q19_1  \\\n",
       "0      2      2      2      2      2      2      2      2       2     -1   \n",
       "1      2      2      2      2      2      2      2      2       2     -1   \n",
       "2      2      2      2      2      2      1      2      2       2     -1   \n",
       "3      2      2      2      2      2      2      2      2       2     -1   \n",
       "4      2      2      2      2      2      2      2      2       2     -1   \n",
       "\n",
       "   Q19_2  Q19_3  Q19_4  Q19_5  Q19_6  Q19_7  Q19_8  Q19_9  Q19_10  Q20  Q21  \\\n",
       "0     -1      1      1      1      1      1     -1     -1      -1    1    1   \n",
       "1      1     -1     -1     -1     -1     -1     -1     -1      -1    1    1   \n",
       "2      1     -1      1     -1     -1     -1      1      1      -1    1    1   \n",
       "3     -1      1     -1     -1     -1     -1      1     -1       1    1    1   \n",
       "4     -1     -1     -1     -1     -1     -1     -1     -1      -1    1    1   \n",
       "\n",
       "   Q22  Q23  Q24  Q25  Q26  Q27_1  Q27_2  Q27_3  Q27_4  Q27_5  Q27_6  Q28_1  \\\n",
       "0  NaN    2    1    1    1      1      1      1      1      1      1    1.0   \n",
       "1  NaN    1    3    3    1      1      1      1      1      1      1    1.0   \n",
       "2  NaN    2    1    2    1      1      1      1      1      1      1    1.0   \n",
       "3  NaN    2    1    2    1      1      1      1      1      1      1    1.0   \n",
       "4  NaN    1    3    1    1      1      1      1      1      1      1    1.0   \n",
       "\n",
       "   Q28_2  Q28_3  Q28_4  Q28_5  Q28_6  Q28_7  Q28_8  Q29_1  Q29_2  Q29_3  \\\n",
       "0    1.0    1.0    1.0   -1.0   -1.0    1.0   -1.0    NaN    NaN    NaN   \n",
       "1   -1.0   -1.0   -1.0   -1.0    1.0   -1.0   -1.0    NaN    NaN    NaN   \n",
       "2   -1.0   -1.0   -1.0   -1.0   -1.0    1.0   -1.0    NaN    NaN    NaN   \n",
       "3    1.0   -1.0    1.0   -1.0   -1.0   -1.0   -1.0    NaN    NaN    NaN   \n",
       "4    1.0    1.0   -1.0    1.0   -1.0    1.0   -1.0    NaN    NaN    NaN   \n",
       "\n",
       "   Q29_4  Q29_5  Q29_6  Q29_7  Q29_8  Q29_9  Q29_10  Q30  Q31  Q32  Q33  \\\n",
       "0    NaN    NaN    NaN    NaN    NaN    NaN     NaN    2  NaN  1.0  NaN   \n",
       "1    NaN    NaN    NaN    NaN    NaN    NaN     NaN    3  NaN  NaN  1.0   \n",
       "2    NaN    NaN    NaN    NaN    NaN    NaN     NaN    2  NaN  2.0  NaN   \n",
       "3    NaN    NaN    NaN    NaN    NaN    NaN     NaN    2  NaN  1.0  NaN   \n",
       "4    NaN    NaN    NaN    NaN    NaN    NaN     NaN    1 -1.0  NaN  NaN   \n",
       "\n",
       "   ppage                 educ   race  gender     income_cat voter_category  \n",
       "0     73              College  White  Female       $75-125k         always  \n",
       "1     90              College  White  Female  $125k or more         always  \n",
       "2     53              College  White    Male  $125k or more       sporadic  \n",
       "3     58         Some college  Black  Female        $40-75k       sporadic  \n",
       "4     81  High school or less  White    Male        $40-75k         always  "
      ]
     },
     "execution_count": 5,
     "metadata": {},
     "output_type": "execute_result"
    }
   ],
   "source": [
    "nv_df.head()"
   ]
  },
  {
   "cell_type": "markdown",
   "metadata": {},
   "source": [
    "Since young Blacks and Hispanics were over-represented in the study, there is a weighting in order to proportion respondents according to general population benchmarks for US citizens.  \n",
    "(Wolfe, 2020)"
   ]
  },
  {
   "cell_type": "code",
   "execution_count": 37,
   "metadata": {},
   "outputs": [
    {
     "data": {
      "text/plain": [
       "(5836, 119)"
      ]
     },
     "execution_count": 37,
     "metadata": {},
     "output_type": "execute_result"
    }
   ],
   "source": [
    "nv_df.shape"
   ]
  },
  {
   "cell_type": "code",
   "execution_count": 6,
   "metadata": {},
   "outputs": [
    {
     "data": {
      "text/plain": [
       "[]"
      ]
     },
     "execution_count": 6,
     "metadata": {},
     "output_type": "execute_result"
    }
   ],
   "source": [
    "# Select only columns for questions, weighting and outcome (voter_category)\n",
    "features = nv_df.iloc[:, 1:113]\n",
    "\n",
    "# Check for missing values:\n",
    "drop_list = features.columns[features.isna().any()].tolist()\n",
    "features = features.drop(drop_list, axis = 1)\n",
    "features.columns[features.isna().any()].tolist()\n",
    "# empty list means that there are no 'NaN's remaining"
   ]
  },
  {
   "cell_type": "code",
   "execution_count": 7,
   "metadata": {},
   "outputs": [],
   "source": [
    "# Select values as nd arrays\n",
    "feature_v = features.values\n",
    "target = nv_df[\"voter_category\"]"
   ]
  },
  {
   "cell_type": "markdown",
   "metadata": {},
   "source": [
    "The following procedures are those recommended by Purva Huilgol (Huilgol, 2020). "
   ]
  },
  {
   "cell_type": "markdown",
   "metadata": {},
   "source": [
    "### Distribution of the response variable\n",
    "Of the elections that the respondents were eligible to vote in, their categories are:\n",
    "* Always: Voted on all or all bar one  \n",
    "* Sporadic: Voted in at least two but less than all bar one  \n",
    "* Rarely/Never: Voted on 0 or 1 election"
   ]
  },
  {
   "cell_type": "code",
   "execution_count": 8,
   "metadata": {},
   "outputs": [
    {
     "data": {
      "image/png": "[encoded data removed]",
      "text/plain": [
       "<Figure size 432x288 with 1 Axes>"
      ]
     },
     "metadata": {
      "needs_background": "light"
     },
     "output_type": "display_data"
    },
    {
     "name": "stdout",
     "output_type": "stream",
     "text": [
      "Voter category strata: \n"
     ]
    },
    {
     "data": {
      "text/plain": [
       "sporadic        0.441\n",
       "always          0.310\n",
       "rarely/never    0.249\n",
       "Name: voter_category, dtype: float64"
      ]
     },
     "execution_count": 8,
     "metadata": {},
     "output_type": "execute_result"
    }
   ],
   "source": [
    "sns.countplot(target)\n",
    "\n",
    "# Add labels\n",
    "plt.title('Majority of voters are sporadic')\n",
    "plt.xlabel('Voter Category')\n",
    "# ha - horizontal alignment\n",
    "plt.ylabel('Eligible Voters',rotation='horizontal', ha='right')\n",
    "plt.show()\n",
    "\n",
    "print(\"Voter category strata: \")\n",
    "nv_df['voter_category'].value_counts()/len(nv_df)"
   ]
  },
  {
   "cell_type": "markdown",
   "metadata": {},
   "source": [
    "## K-Nearest Neighbour Classifier model\n",
    "\n",
    "__Scaling__"
   ]
  },
  {
   "cell_type": "code",
   "execution_count": 9,
   "metadata": {},
   "outputs": [],
   "source": [
    "np.random.seed(123)\n",
    "#Scaling - mandatory for knn\n",
    "from sklearn.preprocessing import StandardScaler\n",
    "ss = StandardScaler()\n",
    "features = ss.fit_transform(features)"
   ]
  },
  {
   "cell_type": "markdown",
   "metadata": {},
   "source": [
    "__Split into training and test datasets__  \n",
    "70% training and 30% test"
   ]
  },
  {
   "cell_type": "code",
   "execution_count": 10,
   "metadata": {},
   "outputs": [],
   "source": [
    "X_train, X_test, y_train, y_test = train_test_split(features, target,\n",
    "                                                    test_size=0.30,\n",
    "                                                    shuffle=False,\n",
    "                                                    random_state=4) "
   ]
  },
  {
   "cell_type": "code",
   "execution_count": 11,
   "metadata": {},
   "outputs": [
    {
     "name": "stdout",
     "output_type": "stream",
     "text": [
      "Ratio of X train to test: 2.333\n",
      "Ratio of y train to test: 2.333\n"
     ]
    }
   ],
   "source": [
    "# Verify the proportional split into train and test\n",
    "print(\"Ratio of X train to test: {:.3f}\".format(len(X_train)/len(X_test)) )\n",
    "print(\"Ratio of y train to test: {:.3f}\".format(len(y_train)/len(y_test)) )\n"
   ]
  },
  {
   "cell_type": "markdown",
   "metadata": {},
   "source": [
    "__Stratification__  \n",
    "Verify that there is the same stratification as in the source data."
   ]
  },
  {
   "cell_type": "code",
   "execution_count": 12,
   "metadata": {},
   "outputs": [
    {
     "name": "stdout",
     "output_type": "stream",
     "text": [
      "Voter category strata (train):\n",
      "[['always' 'rarely/never' 'sporadic']\n",
      " [0.337 0.219 0.444]]\n",
      "\n",
      "Voter category strata (test):\n",
      "[['always' 'rarely/never' 'sporadic']\n",
      " [0.248 0.317 0.435]]\n"
     ]
    }
   ],
   "source": [
    "unique_train, counts_train = np.unique(y_train, return_counts=True)\n",
    "print(\"Voter category strata (train):\")\n",
    "strata_train = np.asarray((unique_train, np.round(counts_train/len(y_train), 3))) \n",
    "print(strata_train )\n",
    "\n",
    "unique_test, counts_test = np.unique(y_test, return_counts=True)\n",
    "print(\"\\nVoter category strata (test):\")\n",
    "strata_test = np.asarray((unique_test, \n",
    "                          np.round(counts_test/len(y_test), 3)) )\n",
    "print(strata_test )"
   ]
  },
  {
   "cell_type": "markdown",
   "metadata": {},
   "source": [
    "### k value\n",
    "\n",
    "The following code to determine the k-value uses the `knn.score()` method and selects the one with the highest score.  "
   ]
  },
  {
   "cell_type": "code",
   "execution_count": 24,
   "metadata": {},
   "outputs": [
    {
     "name": "stdout",
     "output_type": "stream",
     "text": [
      "Max test score 51.05654 and k = [17, 18]\n"
     ]
    }
   ],
   "source": [
    "train_score = []\n",
    "test_score = []\n",
    "k_vals = []\n",
    "\n",
    "# Calculate scores for k values from 1 to 20\n",
    "for k in range(1, 21):\n",
    "    k_vals.append(k)\n",
    "    knn = KNeighborsClassifier(n_neighbors = k)\n",
    "    knn.fit(X_train, y_train)\n",
    "    \n",
    "    tr_score = knn.score(X_train, y_train)\n",
    "    train_score.append(tr_score)\n",
    "    \n",
    "    te_score = knn.score(X_test, y_test)\n",
    "    test_score.append(te_score)\n",
    "    \n",
    "## score that comes from the testing set only\n",
    "max_test_score = max(test_score)\n",
    "test_scores_ind = [i for i, v in enumerate(test_score) \n",
    "                   if v == max_test_score]\n",
    "print('Max test score {:.5f} and k = {}'.format(max_test_score * 100, \n",
    "                                            list(map(lambda x: x + 1, \n",
    "                                                     test_scores_ind))))"
   ]
  },
  {
   "cell_type": "code",
   "execution_count": 13,
   "metadata": {},
   "outputs": [
    {
     "name": "stdout",
     "output_type": "stream",
     "text": [
      "Accuracy: 0.51057\n"
     ]
    }
   ],
   "source": [
    "#Setup a knn classifier with k neighbors\n",
    "knn = KNeighborsClassifier(17)\n",
    "\n",
    "knn.fit(X_train, y_train)\n",
    "print('Accuracy: {:.5f}'.format( knn.score(X_test, y_test) ) )"
   ]
  },
  {
   "cell_type": "code",
   "execution_count": 14,
   "metadata": {},
   "outputs": [],
   "source": [
    "y_pred = knn.predict(X_test)\n",
    "confusion_matrix(y_test, y_pred)\n",
    "test_ct = pd.crosstab(y_test, y_pred, \n",
    "            rownames = ['Actual'], \n",
    "            colnames =['Predicted'], \n",
    "            margins = True)"
   ]
  },
  {
   "cell_type": "code",
   "execution_count": 15,
   "metadata": {},
   "outputs": [
    {
     "data": {
      "image/png": "[encoded data removed]",
      "text/plain": [
       "<Figure size 396x288 with 1 Axes>"
      ]
     },
     "metadata": {
      "needs_background": "light"
     },
     "output_type": "display_data"
    }
   ],
   "source": [
    "confusion = confusion_matrix(y_test, y_pred)\n",
    "cm_df = pd.DataFrame(confusion)\n",
    "\n",
    "plt.figure(figsize = (5.5, 4))\n",
    "sns.heatmap(test_ct, cmap=\"YlGnBu\", annot=True, cbar=False) \n",
    "\n",
    "#sns.heatmap(confusion, annot = True)\n",
    "plt.title(\"KNN Accuracy: \\nfraction of correctly classified instances = {0:.3f}\"\n",
    "         .format(accuracy_score(y_test, y_pred)))\n",
    "plt.ylabel('True label', rotation='horizontal', ha='right')\n",
    "plt.xlabel('\\nPredicted label')\n",
    "plt.show()"
   ]
  },
  {
   "cell_type": "markdown",
   "metadata": {},
   "source": [
    "There are many miss-classifications.  For instance, the _sporadic_ class is predicted (incorrectly) to be _always_ and this occurs in 330 instances.   \n",
    "So the low level of overall accuracy (0.511) is not surprising.  It is likely that the source data needs further refinement. \n",
    "\n",
    "## Evaluation Metrics  \n",
    "    1. Accuracy  \n",
    "    2. Precision  \n",
    "    3. Recall  \n",
    "    4. F1-Score  \n",
    "    \n",
    "### 1. Accuracy\n",
    "For a binary classifier: \n",
    "> Accuracy is the ratio of the total number of correct predictions and  \n",
    "> the total number of instances.  \n",
    "\n",
    "$$ Accuracy = \\frac{TP + TN}{TP + FP + TN + FN}$$"
   ]
  },
  {
   "cell_type": "markdown",
   "metadata": {},
   "source": [
    "### 2. Precision\n",
    "\n",
    "> Precision is the ratio between the True Positives and   \n",
    "> all the Positives. \n",
    "\n",
    "Mathematically:  \n",
    "$$ Precision = \\frac{TP}{TP + FP}$$\n",
    "\n",
    "`Precision` also gives a measure of the data points that are relevant. We do not want to put a voter into the _always_ class when they are either in the _sporadic_ or _never_ class.\n",
    "\n",
    "For example, the precision for the _always_ class is  \n",
    "$$\\frac{204}{204 + 82 + 329} = 0.332$$"
   ]
  },
  {
   "cell_type": "markdown",
   "metadata": {},
   "source": [
    "### 3. Recall\n",
    "The recall is the measure of the model correctly identifying True Positives. Thus, for the three voter classes, `recall` gives the proportion of instances that the model identified correctly.  \n",
    "Mathematically:  \n",
    "$$ Recall = \\frac{TP}{TP + FN}$$\n",
    "\n",
    "For a binary classifier, this is the __Sensitivity__ or True Positive Rate. What if the model predicted that an _always_ voter is in the _never_ class and so, no ballot was sent to that voter.\n",
    "\n",
    "The `recall` for the _never_ class is\n",
    "$$ \\frac{290}{290 + 82 + 180} = 0.525$$"
   ]
  },
  {
   "cell_type": "markdown",
   "metadata": {},
   "source": [
    "In situations where it is critical that a class is identified correctly, as in medicine, the classifier needs to have high `recall`. \n",
    "\n",
    "`Precision` aims to minimise false positives.  If we need to avoid incorrectly classifying patients as _covid_ positive,  we should aim for high precision.  As a result, resources go to those patients that need them and not to the _false positives_. \n",
    "\n",
    "Ideally, the model should have high precision and high recall values.  However, it is not possible to achieve both goals at the same time.  If there is high `recall` and critical patients get the care that they need, there will also be patients treated who do not need it.\n",
    "\n",
    "In contrast, if there is high `precision`, this avoids giving treatment to those who do not need it.  However, in this case, there will be patients going without the treatment that they require."
   ]
  },
  {
   "cell_type": "markdown",
   "metadata": {},
   "source": [
    "### 4. F1-Score\n",
    "From the above discussion, it is clear that there is a tradeoff between Precision and Recall. The context for applying a classifier informs which metric to emphasise.\n",
    "\n",
    "* For example, for the _non-voter_ dataset, a polling company needs to identify the correct class for each voter and they aim for high recall / sensitivity.\n",
    "\n",
    "* A political campaign may want to avoid putting a voter in the incorrect class so that they can target relevant voters.  So the model should have high precision.\n",
    "\n",
    "* In other situations, a campaign manager could decide that they need to have voters identified correctly and to avoid incorrect classifications.\n",
    "\n",
    "The F1-score is a way to deal with the Precision / Recall tradeoff.  The F1-score is the Harmonic mean of the Precision and Recall:\n",
    "\n",
    "$$ F1Score = 2 \\times \\frac{Precision * Recall}{Precision + Recall}$$\n",
    "\n",
    "As a result, by aiming for a good F1-score, it is not necessary to balance over and back between Precision and Recall.  A high F1-score indicates a good Precision and a good Recall value as well."
   ]
  },
  {
   "cell_type": "markdown",
   "metadata": {},
   "source": [
    "__Classification Report__    \n",
    "* Evaluation metrics for each class  \n",
    "* Accuracy averaged over all classes"
   ]
  },
  {
   "cell_type": "code",
   "execution_count": 62,
   "metadata": {},
   "outputs": [
    {
     "name": "stdout",
     "output_type": "stream",
     "text": [
      "              precision    recall  f1-score   support\n",
      "\n",
      "      always       0.33      0.47      0.39       434\n",
      "rarely/never       0.87      0.52      0.65       555\n",
      "    sporadic       0.50      0.52      0.51       762\n",
      "\n",
      "    accuracy                           0.51      1751\n",
      "   macro avg       0.57      0.51      0.52      1751\n",
      "weighted avg       0.58      0.51      0.53      1751\n",
      "\n",
      "support refers to the number of instances in each class\n"
     ]
    }
   ],
   "source": [
    "print(classification_report(y_test, y_pred))\n",
    "print('support refers to the number of instances in each class')"
   ]
  },
  {
   "cell_type": "markdown",
   "metadata": {},
   "source": [
    "## Multi-Class Evaluation\n",
    "(Collins-Thompson, 2020)  \n",
    "\n",
    "* an extension of binary classification \n",
    "    - each class has a true or false prediction\n",
    "* The overall evaluation metrics are _averages_ across all classes\n",
    "    - Micro-average\n",
    "    - Macro-average"
   ]
  },
  {
   "cell_type": "code",
   "execution_count": 76,
   "metadata": {},
   "outputs": [
    {
     "data": {
      "text/html": [
       "<div>\n",
       "<style scoped>\n",
       "    .dataframe tbody tr th:only-of-type {\n",
       "        vertical-align: middle;\n",
       "    }\n",
       "\n",
       "    .dataframe tbody tr th {\n",
       "        vertical-align: top;\n",
       "    }\n",
       "\n",
       "    .dataframe thead th {\n",
       "        text-align: right;\n",
       "    }\n",
       "</style>\n",
       "<table border=\"1\" class=\"dataframe\">\n",
       "  <thead>\n",
       "    <tr style=\"text-align: right;\">\n",
       "      <th></th>\n",
       "      <th>Class</th>\n",
       "      <th>Predicted</th>\n",
       "      <th>Correct</th>\n",
       "    </tr>\n",
       "  </thead>\n",
       "  <tbody>\n",
       "    <tr>\n",
       "      <th>0</th>\n",
       "      <td>orange</td>\n",
       "      <td>lemon</td>\n",
       "      <td>0</td>\n",
       "    </tr>\n",
       "    <tr>\n",
       "      <th>1</th>\n",
       "      <td>orange</td>\n",
       "      <td>lemon</td>\n",
       "      <td>0</td>\n",
       "    </tr>\n",
       "    <tr>\n",
       "      <th>2</th>\n",
       "      <td>orange</td>\n",
       "      <td>apple</td>\n",
       "      <td>0</td>\n",
       "    </tr>\n",
       "    <tr>\n",
       "      <th>3</th>\n",
       "      <td>orange</td>\n",
       "      <td>orange</td>\n",
       "      <td>1</td>\n",
       "    </tr>\n",
       "    <tr>\n",
       "      <th>4</th>\n",
       "      <td>orange</td>\n",
       "      <td>apple</td>\n",
       "      <td>0</td>\n",
       "    </tr>\n",
       "    <tr>\n",
       "      <th>5</th>\n",
       "      <td>lemon</td>\n",
       "      <td>lemon</td>\n",
       "      <td>1</td>\n",
       "    </tr>\n",
       "    <tr>\n",
       "      <th>6</th>\n",
       "      <td>lemon</td>\n",
       "      <td>apple</td>\n",
       "      <td>0</td>\n",
       "    </tr>\n",
       "    <tr>\n",
       "      <th>7</th>\n",
       "      <td>apple</td>\n",
       "      <td>apple</td>\n",
       "      <td>1</td>\n",
       "    </tr>\n",
       "    <tr>\n",
       "      <th>8</th>\n",
       "      <td>apple</td>\n",
       "      <td>apple</td>\n",
       "      <td>1</td>\n",
       "    </tr>\n",
       "  </tbody>\n",
       "</table>\n",
       "</div>"
      ],
      "text/plain": [
       "    Class Predicted  Correct\n",
       "0  orange     lemon        0\n",
       "1  orange     lemon        0\n",
       "2  orange     apple        0\n",
       "3  orange    orange        1\n",
       "4  orange     apple        0\n",
       "5   lemon     lemon        1\n",
       "6   lemon     apple        0\n",
       "7   apple     apple        1\n",
       "8   apple     apple        1"
      ]
     },
     "metadata": {},
     "output_type": "display_data"
    }
   ],
   "source": [
    "d = {'Class': ['orange', 'orange', 'orange', 'orange', 'orange', 'lemon', 'lemon', 'apple', 'apple'], \n",
    "     'Predicted': ['lemon', 'lemon', 'apple', 'orange', 'apple', 'lemon', 'apple', 'apple', 'apple'], \n",
    "    'Correct': [0, 0, 0, 1, 0, 1, 0, 1, 1]}\n",
    "fruit = pd.DataFrame(d )\n",
    "\n",
    "display(fruit)"
   ]
  },
  {
   "cell_type": "markdown",
   "metadata": {},
   "source": [
    "* Macro-average  \n",
    "    - each class has equal weight  \n",
    "    - macro-average precision:  \n",
    "        - (1/5 + 1/2 + 2/2) / 3 = 0.57  \n",
    "* Micro-average\n",
    "    - each instance has equal weight\n",
    "    - micro-average precision\n",
    "        - 4/9 = 0.44 "
   ]
  },
  {
   "cell_type": "markdown",
   "metadata": {},
   "source": [
    "__Micro-averaged Vs Macro-averaged Precision__\n"
   ]
  },
  {
   "cell_type": "code",
   "execution_count": 25,
   "metadata": {},
   "outputs": [
    {
     "name": "stdout",
     "output_type": "stream",
     "text": [
      "\n",
      "Micro-averaged precision = 0.51 (treat instances equally)\n",
      "Macro-averaged precision = 0.57 (treat classes equally)\n",
      "\n",
      "Micro-averaged recall = 0.51 (treat instances equally)\n",
      "Macro-averaged recall = 0.51 (treat classes equally)\n"
     ]
    }
   ],
   "source": [
    "print('\\nMicro-averaged precision = {:.2f} (treat instances equally)'\n",
    "      .format(precision_score(y_test, y_pred, average = 'micro')))\n",
    "print('Macro-averaged precision = {:.2f} (treat classes equally)'\n",
    "      .format(precision_score(y_test, y_pred, average = 'macro')))\n",
    "\n",
    "print('\\nMicro-averaged recall = {:.2f} (treat instances equally)'\n",
    "      .format(recall_score(y_test, y_pred, average = 'micro')))\n",
    "print('Macro-averaged recall = {:.2f} (treat classes equally)'\n",
    "      .format(recall_score(y_test, y_pred, average = 'macro')))"
   ]
  },
  {
   "cell_type": "markdown",
   "metadata": {},
   "source": [
    "It is expected that micro- and macro-averaged precision will be close when there are about the same number of instances in each class.\n"
   ]
  },
  {
   "cell_type": "markdown",
   "metadata": {},
   "source": [
    "## Conclusions\n",
    "\n",
    "As noted, there is a low level of overall accuracy (0.511).  This means that there is equal likelihood of the model making a correct prediction as for giving an incorrect prediction.  So this multi-class classifier provides no information.\n",
    "\n",
    "As for the question on the suitability of social and political survey data, it is likely that the source data needs further refinement."
   ]
  },
  {
   "cell_type": "markdown",
   "metadata": {},
   "source": [
    "# References\n",
    "\n",
    "Assumptions of Linear Regression (2021) Statistics Solutions. Available at: https://www.statisticssolutions.com/assumptions-of-linear-regression/ (Accessed: 9 January 2021).\n",
    "\n",
    "Collins-Thompson, K. (2020) Multi-Class Evaluation. University of Michigan, Coursera. Available at: https://www.coursera.org/learn/python-machine-learning/lecture/1ugJR/multi-class-evaluation (Accessed: 19 January 2021).\n",
    "\n",
    "Hickey, W. (2017) The Ultimate Halloween Candy Power Ranking. FiveThirtyEight. Available at: https://fivethirtyeight.com/videos/the-ultimate-halloween-candy-power-ranking/ (Accessed: 13 January 2021).  \n",
    "\n",
    "Huilgol, P. (2020) Precision vs Recall - An Intuitive Guide for Every Machine Learning Person. Analytics Vidhya. Available at: https://www.analyticsvidhya.com/blog/2020/09/precision-recall-machine-learning/ (Accessed: 18 January 2021).\n",
    "\n",
    "Irizarry, R. (2018) Introduction to Linear Models and Matrix Algebra, PH525.2x, edX. Harvard Life Sciences. Available at: https://courses.edx.org/courses/course-v1:HarvardX+PH525.2x+2T2017/course/ (Accessed: 11 January 2021).\n",
    "\n",
    "Simple Linear Regression (2016) Boston University School of Public Health. Available at: https://sphweb.bumc.bu.edu/otlt/MPH-Modules/BS/R/R5_Correlation-Regression/R5_Correlation-Regression4.html (Accessed: 9 January 2021).\n",
    "\n",
    "Srivastava, T. (2018) Introduction to k-Nearest Neighbors: A powerful Machine Learning Algorithm (with implementation in Python & R). Analytics Vidhya. Available at: https://www.analyticsvidhya.com/blog/2018/03/introduction-k-neighbours-algorithm-clustering/ (Accessed: 16 January 2021).\n",
    "\n",
    "Tan, P., Kumar, V. and Steinbach, M. (2016) Introduction To Data Mining. 4th edn. Pearson.\n",
    "\n",
    "Thomson-DeVeaux, A., Mithani, J. and Bronner, L. (2020) Why Millions Of Americans Don’t Vote. FiveThirtyEight. Available at: https://projects.fivethirtyeight.com/non-voters-poll-2020-election/ (Accessed: 18 January 2021).\n",
    "\n",
    "Wolfe, J. (2020) fivethirtyeight/data/non-voters/README.md. github. Available at: https://github.com/fivethirtyeight/data/tree/master/non-voters (Accessed: 18 January 2021)."
   ]
  }
 ],
 "metadata": {
  "kernelspec": {
   "display_name": "Python 3",
   "language": "python",
   "name": "python3"
  },
  "language_info": {
   "codemirror_mode": {
    "name": "ipython",
    "version": 3
   },
   "file_extension": ".py",
   "mimetype": "text/x-python",
   "name": "python",
   "nbconvert_exporter": "python",
   "pygments_lexer": "ipython3",
   "version": "3.8.3"
  }
 },
 "nbformat": 4,
 "nbformat_minor": 4
}
