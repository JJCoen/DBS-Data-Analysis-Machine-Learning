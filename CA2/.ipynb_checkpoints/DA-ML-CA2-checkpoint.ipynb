{
 "cells": [
  {
   "cell_type": "markdown",
   "metadata": {},
   "source": [
    "\n",
    "<center><font size=\"+3\">\n",
    "Data Analysis and Machine Learning   \n",
    "    \n",
    "<center><font size=\"+2\">    \n",
    "Continuous Assessment 2     \n",
    "<center>    \n",
    "Jim Coen   \n",
    "<center>    \n",
    "Student Number: 10556748  \n",
    "</font></center>\n"
   ]
  },
  {
   "cell_type": "markdown",
   "metadata": {},
   "source": [
    "#  Question 2\n",
    "\n"
   ]
  }
 ],
 "metadata": {
  "kernelspec": {
   "display_name": "Python 3",
   "language": "python",
   "name": "python3"
  },
  "language_info": {
   "codemirror_mode": {
    "name": "ipython",
    "version": 3
   },
   "file_extension": ".py",
   "mimetype": "text/x-python",
   "name": "python",
   "nbconvert_exporter": "python",
   "pygments_lexer": "ipython3",
   "version": "3.8.3"
  }
 },
 "nbformat": 4,
 "nbformat_minor": 4
}
